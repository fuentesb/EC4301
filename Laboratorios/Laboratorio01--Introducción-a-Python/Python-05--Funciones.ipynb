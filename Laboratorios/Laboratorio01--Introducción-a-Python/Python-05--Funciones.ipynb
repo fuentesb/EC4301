{
 "cells": [
  {
   "cell_type": "code",
   "execution_count": 1,
   "metadata": {},
   "outputs": [],
   "source": [
    "%run formato.py\n",
    "set_css_style(\"mi_estilo.css\")"
   ]
  },
  {
   "cell_type": "markdown",
   "metadata": {},
   "source": [
    "<img src=\"figures/escuela-de-economia.png\" width=\"260\" height=\"60\">\n",
    "<center>\n",
    "    <b>EC4301 MACROECONOMETRÍA</b><br>\n",
    "    <b>Profesor:  Randall Romero Aguilar, PhD</b>\n",
    "<br><br>\n",
    "<b>Laboratorio:</b>\n",
    "<br>    \n",
    "<div style=\"font-size:250%;color:white; background-color: #0064b0;\">Introducción a Python</div>\n",
    "<div style=\"font-size:175%;color:white; background-color: #0064b0;\">Parte 5: Funciones</div>    \n",
    "\n",
    "</center>\n",
    "<br><br>\n",
    "<p style=\"font-size:120%;\">En este cuaderno hacemos una pequeña introducción al lenguage de programación Python. </p>\n",
    "\n",
    "<i>Creado:     2018-Jul-21 \n",
    "    <br>\n",
    "    Actualizado: 2020-Ago-17</i>\n",
    "\n",
    "<hr>\n"
   ]
  },
  {
   "cell_type": "markdown",
   "metadata": {},
   "source": [
    "# Funciones\n",
    "\n",
    "Las funciones son objetos que permiten realizar tareas específicas de una manera más ordenada, sin hacer copias innecesarias del código. Esto facilita enormemente el mantenimiento del código."
   ]
  },
  {
   "cell_type": "markdown",
   "metadata": {},
   "source": [
    "## Funciones como objetos"
   ]
  },
  {
   "cell_type": "markdown",
   "metadata": {},
   "source": [
    "En Python las funciones también son **objetos**, que pueden, por ejemplo, \n",
    "* copiarse\n",
    "* ser miembro de una colección (lista, tupla, diccionario)\n",
    "* pasarse como un argumento de otra función"
   ]
  },
  {
   "cell_type": "code",
   "execution_count": 2,
   "metadata": {},
   "outputs": [
    {
     "data": {
      "text/plain": [
       "builtin_function_or_method"
      ]
     },
     "execution_count": 2,
     "metadata": {},
     "output_type": "execute_result"
    }
   ],
   "source": [
    "type(max)"
   ]
  },
  {
   "cell_type": "markdown",
   "metadata": {},
   "source": [
    "### ser miembro de una colección"
   ]
  },
  {
   "cell_type": "code",
   "execution_count": 3,
   "metadata": {},
   "outputs": [
    {
     "data": {
      "text/plain": [
       "[0.8660254037844386, 0.5000000000000001, 1.7320508075688767]"
      ]
     },
     "execution_count": 3,
     "metadata": {},
     "output_type": "execute_result"
    }
   ],
   "source": [
    "from math import sin, cos, tan, pi\n",
    "\n",
    "𝜋 = pi\n",
    "\n",
    "trigonometricas = (sin, cos, tan)\n",
    "[f(𝜋/3) for f in trigonometricas]"
   ]
  },
  {
   "cell_type": "markdown",
   "metadata": {},
   "source": [
    "### copiarse"
   ]
  },
  {
   "cell_type": "code",
   "execution_count": 4,
   "metadata": {},
   "outputs": [
    {
     "data": {
      "text/plain": [
       "0.5000000000000001"
      ]
     },
     "execution_count": 4,
     "metadata": {},
     "output_type": "execute_result"
    }
   ],
   "source": [
    "coseno = cos\n",
    "coseno(𝜋/3)"
   ]
  },
  {
   "cell_type": "markdown",
   "metadata": {},
   "source": [
    "### pasarse como argumento de otra función"
   ]
  },
  {
   "cell_type": "code",
   "execution_count": 5,
   "metadata": {},
   "outputs": [
    {
     "data": {
      "text/plain": [
       "0.9999999999999999"
      ]
     },
     "execution_count": 5,
     "metadata": {},
     "output_type": "execute_result"
    }
   ],
   "source": [
    "from scipy import integrate\n",
    "\n",
    "integrate.quad(cos, 0, 𝜋/2)[0]"
   ]
  },
  {
   "cell_type": "markdown",
   "metadata": {
    "slideshow": {
     "slide_type": "slide"
    }
   },
   "source": [
    "# Definiendo funciones\n",
    "\n",
    "Una función se crea usando la palabra clave `def` (definition) seguida de un nombre de su escogencia y paréntesis `( )`.\n",
    "\n",
    "El programador puede escoger cualquier nombre para una función, excepto las palabras claves de Python y el nombre de funciones integradas existentes.\n",
    "\n",
    "Esta línea debe terminar con un `:`, luego deben seguir las instrucciones que la función ejecuta cuando es llamada, en líneas indentadas.\n",
    "\n",
    "Por tanto, la sintaxis se ve así:\n",
    "```\n",
    "def function-name( ):\n",
    "    statements-to-be-executed\n",
    "    statements-to-be-executed\n",
    "```    "
   ]
  },
  {
   "cell_type": "markdown",
   "metadata": {
    "slideshow": {
     "slide_type": "subslide"
    }
   },
   "source": [
    "Para averiguar las palabras claves de Python:"
   ]
  },
  {
   "cell_type": "code",
   "execution_count": 6,
   "metadata": {},
   "outputs": [
    {
     "name": "stdout",
     "output_type": "stream",
     "text": [
      "['False', 'None', 'True', 'and', 'as', 'assert', 'async', 'await', 'break', 'class', 'continue', 'def', 'del', 'elif', 'else', 'except', 'finally', 'for', 'from', 'global', 'if', 'import', 'in', 'is', 'lambda', 'nonlocal', 'not', 'or', 'pass', 'raise', 'return', 'try', 'while', 'with', 'yield']\n"
     ]
    }
   ],
   "source": [
    "import keyword\n",
    "print(keyword.kwlist)"
   ]
  },
  {
   "cell_type": "markdown",
   "metadata": {
    "slideshow": {
     "slide_type": "subslide"
    }
   },
   "source": [
    "## Una función sin argumentos"
   ]
  },
  {
   "cell_type": "code",
   "execution_count": 7,
   "metadata": {},
   "outputs": [],
   "source": [
    "def hello( ):\n",
    "    print('Hello')\n",
    "    print('Welcome to the UCR!')"
   ]
  },
  {
   "cell_type": "markdown",
   "metadata": {
    "slideshow": {
     "slide_type": "fragment"
    }
   },
   "source": [
    "Para correr esta función"
   ]
  },
  {
   "cell_type": "code",
   "execution_count": 8,
   "metadata": {},
   "outputs": [
    {
     "name": "stdout",
     "output_type": "stream",
     "text": [
      "Hello\n",
      "Welcome to the UCR!\n"
     ]
    }
   ],
   "source": [
    "hello()"
   ]
  },
  {
   "cell_type": "code",
   "execution_count": 9,
   "metadata": {},
   "outputs": [],
   "source": [
    "saludar = hello"
   ]
  },
  {
   "cell_type": "code",
   "execution_count": 10,
   "metadata": {},
   "outputs": [
    {
     "name": "stdout",
     "output_type": "stream",
     "text": [
      "Hello\n",
      "Welcome to the UCR!\n"
     ]
    }
   ],
   "source": [
    "saludar()"
   ]
  },
  {
   "cell_type": "markdown",
   "metadata": {
    "slideshow": {
     "slide_type": "subslide"
    }
   },
   "source": [
    "## Una función con argumentos\n",
    "\n",
    "Supongamos que deseamos escribir una función para convertir un dato de temperatura de Celsius a Fahrenheit. Para ello, sabemos que:\n",
    "$$F = \\tfrac{9}{5}C + 32 = 1.8C + 32$$"
   ]
  },
  {
   "cell_type": "code",
   "execution_count": 11,
   "metadata": {
    "scrolled": true
   },
   "outputs": [
    {
     "name": "stdout",
     "output_type": "stream",
     "text": [
      "15.0° Celsius equals 59.0 Fahrenheit\n"
     ]
    }
   ],
   "source": [
    "def c2f(c):\n",
    "    f = 1.8 * c + 32\n",
    "    print(f'{c:.1f}° Celsius equals {f:.1f} Fahrenheit')\n",
    "\n",
    "c2f(15)"
   ]
  },
  {
   "cell_type": "code",
   "execution_count": 12,
   "metadata": {},
   "outputs": [
    {
     "name": "stdout",
     "output_type": "stream",
     "text": [
      "100.0° Celsius equals 212.0 Fahrenheit\n"
     ]
    }
   ],
   "source": [
    "y = c2f(100)"
   ]
  },
  {
   "cell_type": "code",
   "execution_count": 13,
   "metadata": {},
   "outputs": [
    {
     "data": {
      "text/plain": [
       "NoneType"
      ]
     },
     "execution_count": 13,
     "metadata": {},
     "output_type": "execute_result"
    }
   ],
   "source": [
    "type(y)"
   ]
  },
  {
   "cell_type": "markdown",
   "metadata": {
    "slideshow": {
     "slide_type": "subslide"
    }
   },
   "source": [
    "## Una función que retorna un valor"
   ]
  },
  {
   "cell_type": "code",
   "execution_count": 14,
   "metadata": {},
   "outputs": [
    {
     "name": "stdout",
     "output_type": "stream",
     "text": [
      "59.0\n"
     ]
    }
   ],
   "source": [
    "def c2f(c):\n",
    "    f = 1.8 * c + 32\n",
    "    return f\n",
    "\n",
    "x = c2f(15)\n",
    "print(x)"
   ]
  },
  {
   "cell_type": "markdown",
   "metadata": {
    "slideshow": {
     "slide_type": "subslide"
    }
   },
   "source": [
    "## Una función con parámetros predeterminados"
   ]
  },
  {
   "cell_type": "code",
   "execution_count": 15,
   "metadata": {},
   "outputs": [
    {
     "data": {
      "text/plain": [
       "59.0"
      ]
     },
     "execution_count": 15,
     "metadata": {},
     "output_type": "execute_result"
    }
   ],
   "source": [
    "def c2f(c, show=False):\n",
    "    f = 1.8 * c + 32\n",
    "    if show:\n",
    "        print(f'{c:.1f}° Celsius = {f:.1f} Fahrenheit')\n",
    "    return f\n",
    "\n",
    "c2f(15)"
   ]
  },
  {
   "cell_type": "code",
   "execution_count": 16,
   "metadata": {
    "slideshow": {
     "slide_type": "subslide"
    }
   },
   "outputs": [
    {
     "name": "stdout",
     "output_type": "stream",
     "text": [
      "15.0° Celsius = 59.0 Fahrenheit\n"
     ]
    },
    {
     "data": {
      "text/plain": [
       "59.0"
      ]
     },
     "execution_count": 16,
     "metadata": {},
     "output_type": "execute_result"
    }
   ],
   "source": [
    "c2f(15, show=True)"
   ]
  },
  {
   "cell_type": "code",
   "execution_count": 17,
   "metadata": {
    "scrolled": true,
    "slideshow": {
     "slide_type": "fragment"
    }
   },
   "outputs": [
    {
     "name": "stdout",
     "output_type": "stream",
     "text": [
      "15.0° Celsius = 59.0 Fahrenheit\n"
     ]
    },
    {
     "data": {
      "text/plain": [
       "59.0"
      ]
     },
     "execution_count": 17,
     "metadata": {},
     "output_type": "execute_result"
    }
   ],
   "source": [
    "c2f(15, True)"
   ]
  },
  {
   "cell_type": "markdown",
   "metadata": {},
   "source": [
    "# Documentando una función\n",
    "\n",
    "¡Es muy importante documentar lo que hace su código!"
   ]
  },
  {
   "cell_type": "code",
   "execution_count": 18,
   "metadata": {},
   "outputs": [],
   "source": [
    "def c2f(c, show=False):\n",
    "    \"\"\"\n",
    "    Converts temperature data from Celsius degrees to Fahrenheit degrees\n",
    "    \n",
    "    Input:\n",
    "      c: a scalar number, degrees in Celsius\n",
    "      show: a boolean, whether to print the outcome\n",
    "    Output:\n",
    "      a scalar number, degrees in Fahrenheit\n",
    "    Example:\n",
    "      c2f(0)  # returns 32.0\n",
    "    \"\"\"\n",
    "    f = 1.8 * c + 32\n",
    "    if show:\n",
    "        print(f'{c:.1f}° Celsius = {f:.1f} Fahrenheit')\n",
    "    return f\n",
    "\n",
    "z = c2f(15)"
   ]
  },
  {
   "cell_type": "code",
   "execution_count": 19,
   "metadata": {
    "inputHidden": false,
    "outputHidden": false,
    "scrolled": true
   },
   "outputs": [
    {
     "name": "stdout",
     "output_type": "stream",
     "text": [
      "Help on function c2f in module __main__:\n",
      "\n",
      "c2f(c, show=False)\n",
      "    Converts temperature data from Celsius degrees to Fahrenheit degrees\n",
      "    \n",
      "    Input:\n",
      "      c: a scalar number, degrees in Celsius\n",
      "      show: a boolean, whether to print the outcome\n",
      "    Output:\n",
      "      a scalar number, degrees in Fahrenheit\n",
      "    Example:\n",
      "      c2f(0)  # returns 32.0\n",
      "\n"
     ]
    }
   ],
   "source": [
    "help(c2f)"
   ]
  },
  {
   "cell_type": "code",
   "execution_count": 20,
   "metadata": {},
   "outputs": [
    {
     "data": {
      "text/plain": [
       "\u001b[1;31mSignature:\u001b[0m \u001b[0mc2f\u001b[0m\u001b[1;33m(\u001b[0m\u001b[0mc\u001b[0m\u001b[1;33m,\u001b[0m \u001b[0mshow\u001b[0m\u001b[1;33m=\u001b[0m\u001b[1;32mFalse\u001b[0m\u001b[1;33m)\u001b[0m\u001b[1;33m\u001b[0m\u001b[1;33m\u001b[0m\u001b[0m\n",
       "\u001b[1;31mDocstring:\u001b[0m\n",
       "Converts temperature data from Celsius degrees to Fahrenheit degrees\n",
       "\n",
       "Input:\n",
       "  c: a scalar number, degrees in Celsius\n",
       "  show: a boolean, whether to print the outcome\n",
       "Output:\n",
       "  a scalar number, degrees in Fahrenheit\n",
       "Example:\n",
       "  c2f(0)  # returns 32.0\n",
       "\u001b[1;31mFile:\u001b[0m      c:\\users\\randall\\onedrive\\documents\\teaching\\ucr\\ec4301 macroeconometria\\labs\\laboratorio01--introducción-a-python\\<ipython-input-18-9b96319dc08c>\n",
       "\u001b[1;31mType:\u001b[0m      function\n"
      ]
     },
     "metadata": {},
     "output_type": "display_data"
    }
   ],
   "source": [
    "?c2f"
   ]
  },
  {
   "cell_type": "markdown",
   "metadata": {
    "slideshow": {
     "slide_type": "slide"
    }
   },
   "source": [
    "# Entendiendo el ámbito de una variable"
   ]
  },
  {
   "cell_type": "markdown",
   "metadata": {},
   "source": [
    "Cuando una función encuentra una variable dentro de su definición que no hay sido definida dentro de la función, buscará su definición en el ambiente donde la función fue definida."
   ]
  },
  {
   "cell_type": "code",
   "execution_count": 21,
   "metadata": {
    "slideshow": {
     "slide_type": "fragment"
    }
   },
   "outputs": [],
   "source": [
    "pi = 3.1415\n",
    "\n",
    "def area(r):\n",
    "    A = pi * r**2\n",
    "    return A"
   ]
  },
  {
   "cell_type": "code",
   "execution_count": 22,
   "metadata": {},
   "outputs": [
    {
     "data": {
      "text/plain": [
       "3.1415"
      ]
     },
     "execution_count": 22,
     "metadata": {},
     "output_type": "execute_result"
    }
   ],
   "source": [
    "pi"
   ]
  },
  {
   "cell_type": "code",
   "execution_count": 23,
   "metadata": {
    "slideshow": {
     "slide_type": "fragment"
    }
   },
   "outputs": [
    {
     "name": "stdout",
     "output_type": "stream",
     "text": [
      "314.15000000000003\n"
     ]
    }
   ],
   "source": [
    "print(area(10))"
   ]
  },
  {
   "cell_type": "code",
   "execution_count": 24,
   "metadata": {
    "slideshow": {
     "slide_type": "subslide"
    }
   },
   "outputs": [
    {
     "ename": "NameError",
     "evalue": "name 'A' is not defined",
     "output_type": "error",
     "traceback": [
      "\u001b[1;31m---------------------------------------------------------------------------\u001b[0m",
      "\u001b[1;31mNameError\u001b[0m                                 Traceback (most recent call last)",
      "\u001b[1;32m<ipython-input-24-939330b76721>\u001b[0m in \u001b[0;36m<module>\u001b[1;34m\u001b[0m\n\u001b[1;32m----> 1\u001b[1;33m \u001b[0mprint\u001b[0m\u001b[1;33m(\u001b[0m\u001b[0mA\u001b[0m\u001b[1;33m)\u001b[0m\u001b[1;33m\u001b[0m\u001b[1;33m\u001b[0m\u001b[0m\n\u001b[0m",
      "\u001b[1;31mNameError\u001b[0m: name 'A' is not defined"
     ]
    }
   ],
   "source": [
    "print(A)"
   ]
  },
  {
   "cell_type": "code",
   "execution_count": 25,
   "metadata": {
    "slideshow": {
     "slide_type": "subslide"
    }
   },
   "outputs": [
    {
     "data": {
      "text/plain": [
       "900"
      ]
     },
     "execution_count": 25,
     "metadata": {},
     "output_type": "execute_result"
    }
   ],
   "source": [
    "pi = 9\n",
    "area(10)"
   ]
  }
 ],
 "metadata": {
  "kernel_info": {
   "name": "python3"
  },
  "kernelspec": {
   "display_name": "Python 3",
   "language": "python",
   "name": "python3"
  },
  "language_info": {
   "codemirror_mode": {
    "name": "ipython",
    "version": 3
   },
   "file_extension": ".py",
   "mimetype": "text/x-python",
   "name": "python",
   "nbconvert_exporter": "python",
   "pygments_lexer": "ipython3",
   "version": "3.8.3"
  },
  "nteract": {
   "version": "0.14.3"
  },
  "toc-autonumbering": false,
  "toc-showtags": false
 },
 "nbformat": 4,
 "nbformat_minor": 4
}
