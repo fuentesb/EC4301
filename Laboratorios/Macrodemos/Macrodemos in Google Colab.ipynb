{
 "cells": [
  {
   "cell_type": "markdown",
   "metadata": {},
   "source": [
    "<center>\n",
    "<img src=\"figures/Macrodemos.PNG\" width=\"260\" height=\"60\">\n",
    "<br>    \n",
    "<div style=\"font-size:250%;color:white; background-color: #0064b0;\">Macrodemos</div>\n",
    "<div style=\"font-size:175%;color:white; background-color: #0064b0;\">A Python module to teach macroeconomics and macroeconometrics</div>    \n",
    "\n",
    "</center>\n",
    "<br><br>\n",
    "<p style=\"font-size:120%;\">The purpose of this package is to provide tools to teach concepts of macroeconomics and macroeconometrics.</p>\n",
    "\n",
    "<b>Profesor:  Randall Romero Aguilar, PhD</b>\n",
    "    \n",
    "<i>Creado:     2020-Sep-01 \n",
    "    <br>\n",
    "    Actualizado: 2020-Sep-07</i>\n",
    "<hr>\n"
   ]
  },
  {
   "cell_type": "markdown",
   "metadata": {},
   "source": [
    "## Before you start\n",
    "\n",
    "If you are running this Jupyter notebook in Google Colab, or if you are running the notebook in your local computer but have not install `macrodemos`, then you need to run this cell:"
   ]
  },
  {
   "cell_type": "code",
   "execution_count": null,
   "metadata": {},
   "outputs": [],
   "source": [
    "!pip install macrodemos"
   ]
  },
  {
   "cell_type": "markdown",
   "metadata": {},
   "source": [
    "Then you load the `macrodemos` package the usual way:"
   ]
  },
  {
   "cell_type": "code",
   "execution_count": null,
   "metadata": {},
   "outputs": [],
   "source": [
    "import macrodemos"
   ]
  },
  {
   "cell_type": "markdown",
   "metadata": {},
   "source": [
    "# ARMA_demo()"
   ]
  },
  {
   "cell_type": "code",
   "execution_count": null,
   "metadata": {},
   "outputs": [],
   "source": [
    "macrodemos.ARMA_demo()"
   ]
  },
  {
   "cell_type": "markdown",
   "metadata": {},
   "source": [
    "<img src=\"figures/ARMAdemo.png\" width=\"100%\">\n",
    "\n",
    "When you run the previous cell, you will get a hyperlink to a Dash application, that looks similar to the one picture above. Just click on the link.\n",
    "\n",
    "In this app, you will find 7 figures about ARMA  processes:\n",
    "\n",
    "* A simulated sample\n",
    "* Autocorrelogram\n",
    "* Partial autocorrelogram\n",
    "* Impulse response function\n",
    "* Spectral density\n",
    "* (Inverse) AR polynomial roots\n",
    "* (Inverse) MA polynomial roots\n",
    "\n",
    "\n",
    "All these figures correspond to the population properties of the specified ARMA process. You have the option of showing estimated counterparts of all of them (estimated from simulated data shown in first plot).\n",
    "\n",
    "At first, this app shows a white noise process. To simulate the ARMA\n",
    "    \n",
    "\\begin{equation*} y_t = c + \\phi_1y_{t-1} + \\dots + \\phi_py_{t-p} + \\epsilon_t + \\theta_1\\epsilon_{t-1} + \\dots + \\theta_q\\epsilon_{t-q}, \\qquad \\epsilon\\sim N(0,\\sigma^2)\n",
    "\\end{equation*}\n",
    "    \n",
    "just enter the parameters\n",
    "    \n",
    "* $c$, in the `c` field,\n",
    "* $\\phi_1,  \\dots, \\phi_p$ (separated by commas) in the `AR` field,\n",
    "* $\\theta_1,  \\dots, \\theta_q$ (separated by commas) in the `MA` field,\n",
    "* $\\sigma^2$ in the `V[e]` field.\n",
    "\n",
    "\n",
    "For AR process $y_t = c + \\phi_1y_{t-1} + \\dots + \\phi_py_{t-p} +\\epsilon_t$, just leave the `MA` blank. Similarly, leave the `AR` field blanck to represent a MA process $y_t = c + \\epsilon_t + \\theta_1\\epsilon_{t-1} + \\dots + \\theta_q\\epsilon_{t-q}$."
   ]
  },
  {
   "cell_type": "markdown",
   "metadata": {},
   "source": [
    "# Markov_demo()"
   ]
  },
  {
   "cell_type": "code",
   "execution_count": null,
   "metadata": {},
   "outputs": [],
   "source": [
    "macrodemos.Markov_demo('state 0', 'state 1')  #adjust names and number of states"
   ]
  },
  {
   "cell_type": "markdown",
   "metadata": {},
   "source": [
    "<img src=\"figures/MarkovDemo.png\" width=\"100%\">\n",
    "\n",
    "This demo simulates a Markov chain. You will find 2 figures about a Markov chain model:\n",
    "\n",
    "* Simulated path, and\n",
    "* Unconditional probability \n",
    "\n",
    "You set the states (2 or more, although it is best to keep it below 4 or 5 states) when calling the demo. Once the app is open, you can control the following parameters\n",
    "* the transition matrix (make sure each row adds up to 1)\n",
    "* the initial ($t=0$) probability distribution (make sure its elements add up to 1)."
   ]
  },
  {
   "cell_type": "markdown",
   "metadata": {},
   "source": [
    "# Solow_demo()"
   ]
  },
  {
   "cell_type": "code",
   "execution_count": null,
   "metadata": {},
   "outputs": [],
   "source": [
    "macrodemos.Solow_demo()"
   ]
  },
  {
   "cell_type": "markdown",
   "metadata": {},
   "source": [
    "<img src=\"figures/SolowDemo.png\" width=\"100%\">\n",
    "\n",
    "This demo was inspired by a similar demo (implemented with Excel) from the book **Introducción a la Macroeconomía Computacional** by Anelí Bongers Chicano, Trinidad Gómez Núñez, José Luis Torres Chacón (ISBN-13: 978-8417332020).\n",
    "\n",
    "In this app you can do comparative-static analysis. You will find 6 figures about the Solow-Swan model:\n",
    "\n",
    "* Capital stock, per capita\n",
    "* Output per capita, \n",
    "* Savings per capita,\n",
    "* Consumption per capita,\n",
    "* Change in capital stock, and\n",
    "* Output growth rate\n",
    "\n",
    "You can control the following parameters\n",
    "* $\\alpha =$ marginal product of capital\n",
    "* $\\delta =$ depreciation rate\n",
    "* $n =$ population growth rate\n",
    "* $A =$ total factor productivity\n",
    "* $s =$ savings rate\n",
    "\n",
    "For each of these parameters, the values in the first column correspond to a *baseline* scenario, and the second column allow for an alternative scenario.\n"
   ]
  },
  {
   "cell_type": "markdown",
   "metadata": {},
   "source": [
    "# Future apps"
   ]
  },
  {
   "cell_type": "markdown",
   "metadata": {},
   "source": [
    "In a near future, I expect to add a few more demos:\n",
    "\n",
    "* `Bellman_demo()`: to illustrate the solution of a Bellman equation by value function iteration\n",
    "* `Filters_demo()`: to illustrate the use of the Hodrick-Prescott, Baxter-King, Christiano-Fitzgerald, Hamilton time series filters.\n",
    "* `Filters_fit()`: to fit the Hodrick-Prescott, Baxter-King, Christiano-Fitzgerald, Hamilton time series filters to user-supplied data.\n",
    "* `ARIMA_fit()`: to compare two fitted ARIMA models, side by side, using user-supplied data."
   ]
  },
  {
   "cell_type": "markdown",
   "metadata": {},
   "source": [
    "## Tips:\n",
    "\n",
    "1. All plots in the `macrodemos` package were made with https://plotly.com/python/. If you point your mouse near the upper-right corner of any plot, you will see a taskbar similar to\n",
    "\n",
    "<img src=\"figures/plotly-options.png\" width=\"40%\">\n",
    "\n",
    "You can resize the plots and even download them if you need them.\n",
    "\n",
    "2. If you run `macrodemos` locally, passing the option `colab=False` to any of the demos will open the demo window for you (no need to enter the  http://127.0.0.1:8050/ URL manually)"
   ]
  },
  {
   "cell_type": "markdown",
   "metadata": {},
   "source": [
    "## Disclaimer\n",
    "\n",
    "This program was developed for teaching purposes only. If you have any comments or suggestions for future demos, please send me an email at randall.romero@ucr.ac.cr ."
   ]
  }
 ],
 "metadata": {
  "kernel_info": {
   "name": "python3"
  },
  "kernelspec": {
   "display_name": "Python 3",
   "language": "python",
   "name": "python3"
  },
  "language_info": {
   "codemirror_mode": {
    "name": "ipython",
    "version": 3
   },
   "file_extension": ".py",
   "mimetype": "text/x-python",
   "name": "python",
   "nbconvert_exporter": "python",
   "pygments_lexer": "ipython3",
   "version": "3.8.3"
  },
  "nteract": {
   "version": "0.14.3"
  },
  "toc-autonumbering": false,
  "toc-showtags": false
 },
 "nbformat": 4,
 "nbformat_minor": 4
}
