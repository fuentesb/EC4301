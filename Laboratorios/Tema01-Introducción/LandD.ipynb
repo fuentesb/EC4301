{
 "cells": [
  {
   "cell_type": "markdown",
   "metadata": {},
   "source": [
    "<img src=\"escuela-de-economia.png\" width=\"260\" height=\"60\">\n",
    "<center>\n",
    "    <b>EC4301 MACROECONOMETRÍA</b><br>\n",
    "    <b>Profesor:  Randall Romero Aguilar, PhD</b>\n",
    "<br><br>\n",
    "<b>Laboratorio:</b>\n",
    "<div style=\"font-size:175%;color:white; background-color: #0064b0;\">Tema 1: Introducción a series de tiempo</div>\n",
    "<div style=\"font-size:250%;color:white; background-color: #0064b0;\">Aplicando el operador de rezagos a datos ficticios</div> \n",
    "</center>\n",
    "<i>Creado:     2020-Ene-16 \n",
    "    <br>\n",
    "    Actualizado: 2020-Sep-11</i>\n",
    "\n",
    "Ejemplo numérico para ilustrar el uso de los operadores de rezago, diferencia, y diferencia estacional."
   ]
  },
  {
   "cell_type": "markdown",
   "metadata": {},
   "source": [
    "Este cuaderno genera un cuadro incluido en **Handout-01--Introduccion.pdf**"
   ]
  },
  {
   "cell_type": "markdown",
   "metadata": {},
   "source": [
    "## Cargar paquetes necesarios"
   ]
  },
  {
   "cell_type": "code",
   "execution_count": null,
   "metadata": {},
   "outputs": [],
   "source": [
    "import pandas as pd"
   ]
  },
  {
   "cell_type": "markdown",
   "metadata": {},
   "source": [
    "## Definir ubicación de archivos de datos"
   ]
  },
  {
   "cell_type": "code",
   "execution_count": null,
   "metadata": {},
   "outputs": [],
   "source": [
    "GITHUB_REPO = \"https://raw.githubusercontent.com/randall-romero/EC4301/master/Laboratorios/Tema01-Introducci%C3%B3n/data/\"\n",
    "DATAPATH = GITHUB_REPO if 'google.colab' in str(get_ipython()) else 'data/'"
   ]
  },
  {
   "cell_type": "markdown",
   "metadata": {},
   "source": [
    "## Importar los datos"
   ]
  },
  {
   "cell_type": "markdown",
   "metadata": {},
   "source": [
    "* Leer una serie de tiempo ficticia de data\\LandD.csv y mostrarlos"
   ]
  },
  {
   "cell_type": "code",
   "execution_count": null,
   "metadata": {},
   "outputs": [],
   "source": [
    "datos = pd.read_csv(DATAPATH + 'LandD.csv', index_col=0, parse_dates=True)\n",
    "datos.columns"
   ]
  },
  {
   "cell_type": "markdown",
   "metadata": {},
   "source": [
    "## Obtener las series transformadas"
   ]
  },
  {
   "cell_type": "markdown",
   "metadata": {},
   "source": [
    "* Operador de rezagos"
   ]
  },
  {
   "cell_type": "code",
   "execution_count": null,
   "metadata": {},
   "outputs": [],
   "source": [
    "datos['Lag_y'] = datos['y'].shift(1)\n",
    "datos['Lag2_y'] = datos['y'].shift(2)"
   ]
  },
  {
   "cell_type": "markdown",
   "metadata": {},
   "source": [
    "* Operador de diferencias\n",
    "\\begin{align}\n",
    "\\Delta y_t &= (1-L)y_t = y_t - y_{t-1} \\\\\n",
    "\\Delta^2 y_t &= (1-L)^2y_t = y_t - 2y_{t-1} + y_{t-2}\n",
    "\\end{align}"
   ]
  },
  {
   "cell_type": "code",
   "execution_count": null,
   "metadata": {},
   "outputs": [],
   "source": [
    "datos['D_y'] = datos.y.diff()\n",
    "datos['D2_y'] = datos.y.diff(1).diff(1)"
   ]
  },
  {
   "cell_type": "markdown",
   "metadata": {},
   "source": [
    "* Operador de diferencia estacional\n",
    "\n",
    "\\begin{equation}\n",
    "\\Delta_4 y_t = (1-L^4)y_t = y_t - y_{t-4}\n",
    "\\end{equation}"
   ]
  },
  {
   "cell_type": "code",
   "execution_count": null,
   "metadata": {},
   "outputs": [],
   "source": [
    "datos['S_y'] = datos.y.diff(4)"
   ]
  },
  {
   "cell_type": "markdown",
   "metadata": {},
   "source": [
    "* Mostrar los resultados"
   ]
  },
  {
   "cell_type": "code",
   "execution_count": null,
   "metadata": {},
   "outputs": [],
   "source": [
    "datos"
   ]
  },
  {
   "cell_type": "markdown",
   "metadata": {},
   "source": [
    "Nótese que a pesar de que la serie original está en números enteros, las demás están en floats (dependiendo de su versión de pandas). Esto se debe a que versiones de Pandas anteriores a la 1.0 no tienen un valor para datos faltantes (NaN) para números enteros."
   ]
  }
 ],
 "metadata": {
  "kernelspec": {
   "display_name": "Python 3",
   "language": "python",
   "name": "python3"
  },
  "language_info": {
   "codemirror_mode": {
    "name": "ipython",
    "version": 3
   },
   "file_extension": ".py",
   "mimetype": "text/x-python",
   "name": "python",
   "nbconvert_exporter": "python",
   "pygments_lexer": "ipython3",
   "version": "3.8.3"
  }
 },
 "nbformat": 4,
 "nbformat_minor": 4
}
