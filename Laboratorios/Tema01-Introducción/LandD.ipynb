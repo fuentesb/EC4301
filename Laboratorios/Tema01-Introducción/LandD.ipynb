{
 "cells": [
  {
   "cell_type": "markdown",
   "metadata": {},
   "source": [
    "<img src=\"escuela-de-economia.png\" width=\"260\" height=\"60\">\n",
    "<center>\n",
    "    <b>EC4301 MACROECONOMETRÍA</b><br>\n",
    "    <b>Profesor:  Randall Romero Aguilar, PhD</b>\n",
    "<br><br>\n",
    "<b>Laboratorio:</b>\n",
    "<div style=\"font-size:175%;color:white; background-color: #0064b0;\">Tema 1: Introducción a series de tiempo</div>\n",
    "<div style=\"font-size:250%;color:white; background-color: #0064b0;\">Aplicando el operador de rezagos a datos ficticios</div> \n",
    "</center>\n",
    "<i>Creado:     2020-Ene-16 \n",
    "    <br>\n",
    "    Actualizado: 2020-Ago-25</i>\n",
    "\n",
    "Ejemplo numérico para ilustrar el uso de los operadores de rezago, diferencia, y diferencia estacional.\n",
    "\n",
    "\n",
    "Este cuaderno genera un cuadro incluido en **Handout-01--Introduccion.pdf**"
   ]
  },
  {
   "cell_type": "code",
   "execution_count": 1,
   "metadata": {},
   "outputs": [],
   "source": [
    "import pandas as pd"
   ]
  },
  {
   "cell_type": "markdown",
   "metadata": {},
   "source": [
    "* Leer una serie de tiempo ficticia de data\\LandD.csv y mostrarlos"
   ]
  },
  {
   "cell_type": "code",
   "execution_count": 2,
   "metadata": {},
   "outputs": [
    {
     "data": {
      "text/plain": [
       "Index(['y'], dtype='object')"
      ]
     },
     "execution_count": 2,
     "metadata": {},
     "output_type": "execute_result"
    }
   ],
   "source": [
    "datos = pd.read_csv(\"data/LandD.csv\", index_col=0, parse_dates=True)\n",
    "datos.columns"
   ]
  },
  {
   "cell_type": "markdown",
   "metadata": {},
   "source": [
    "* Operador de rezagos"
   ]
  },
  {
   "cell_type": "code",
   "execution_count": 3,
   "metadata": {},
   "outputs": [],
   "source": [
    "datos['Lag_y'] = datos['y'].shift(1)\n",
    "datos['Lag2_y'] = datos['y'].shift(2)"
   ]
  },
  {
   "cell_type": "markdown",
   "metadata": {},
   "source": [
    "* Operador de diferencias\n",
    "\\begin{align}\n",
    "\\Delta y_t &= (1-L)y_t = y_t - y_{t-1} \\\\\n",
    "\\Delta^2 y_t &= (1-L)^2y_t = y_t - 2y_{t-1} + y_{t-2}\n",
    "\\end{align}"
   ]
  },
  {
   "cell_type": "code",
   "execution_count": 4,
   "metadata": {},
   "outputs": [],
   "source": [
    "datos['D_y'] = datos.y.diff()\n",
    "datos['D2_y'] = datos.y.diff(1).diff(1)"
   ]
  },
  {
   "cell_type": "markdown",
   "metadata": {},
   "source": [
    "* Operador de diferencia estacional\n",
    "\n",
    "\\begin{equation}\n",
    "\\Delta_4 y_t = (1-L^4)y_t = y_t - y_{t-4}\n",
    "\\end{equation}"
   ]
  },
  {
   "cell_type": "code",
   "execution_count": 5,
   "metadata": {},
   "outputs": [],
   "source": [
    "datos['S_y'] = datos.y.diff(4)"
   ]
  },
  {
   "cell_type": "markdown",
   "metadata": {},
   "source": [
    "* Mostrar los resultados"
   ]
  },
  {
   "cell_type": "code",
   "execution_count": 6,
   "metadata": {},
   "outputs": [
    {
     "data": {
      "text/html": [
       "<div>\n",
       "<style scoped>\n",
       "    .dataframe tbody tr th:only-of-type {\n",
       "        vertical-align: middle;\n",
       "    }\n",
       "\n",
       "    .dataframe tbody tr th {\n",
       "        vertical-align: top;\n",
       "    }\n",
       "\n",
       "    .dataframe thead th {\n",
       "        text-align: right;\n",
       "    }\n",
       "</style>\n",
       "<table border=\"1\" class=\"dataframe\">\n",
       "  <thead>\n",
       "    <tr style=\"text-align: right;\">\n",
       "      <th></th>\n",
       "      <th>y</th>\n",
       "      <th>Lag_y</th>\n",
       "      <th>Lag2_y</th>\n",
       "      <th>D_y</th>\n",
       "      <th>D2_y</th>\n",
       "      <th>S_y</th>\n",
       "    </tr>\n",
       "    <tr>\n",
       "      <th>trimestre</th>\n",
       "      <th></th>\n",
       "      <th></th>\n",
       "      <th></th>\n",
       "      <th></th>\n",
       "      <th></th>\n",
       "      <th></th>\n",
       "    </tr>\n",
       "  </thead>\n",
       "  <tbody>\n",
       "    <tr>\n",
       "      <th>2018-01-01</th>\n",
       "      <td>10</td>\n",
       "      <td>NaN</td>\n",
       "      <td>NaN</td>\n",
       "      <td>NaN</td>\n",
       "      <td>NaN</td>\n",
       "      <td>NaN</td>\n",
       "    </tr>\n",
       "    <tr>\n",
       "      <th>2018-04-01</th>\n",
       "      <td>13</td>\n",
       "      <td>10.0</td>\n",
       "      <td>NaN</td>\n",
       "      <td>3.0</td>\n",
       "      <td>NaN</td>\n",
       "      <td>NaN</td>\n",
       "    </tr>\n",
       "    <tr>\n",
       "      <th>2018-07-01</th>\n",
       "      <td>10</td>\n",
       "      <td>13.0</td>\n",
       "      <td>10.0</td>\n",
       "      <td>-3.0</td>\n",
       "      <td>-6.0</td>\n",
       "      <td>NaN</td>\n",
       "    </tr>\n",
       "    <tr>\n",
       "      <th>2018-10-01</th>\n",
       "      <td>8</td>\n",
       "      <td>10.0</td>\n",
       "      <td>13.0</td>\n",
       "      <td>-2.0</td>\n",
       "      <td>1.0</td>\n",
       "      <td>NaN</td>\n",
       "    </tr>\n",
       "    <tr>\n",
       "      <th>2019-01-01</th>\n",
       "      <td>15</td>\n",
       "      <td>8.0</td>\n",
       "      <td>10.0</td>\n",
       "      <td>7.0</td>\n",
       "      <td>9.0</td>\n",
       "      <td>5.0</td>\n",
       "    </tr>\n",
       "    <tr>\n",
       "      <th>2019-04-01</th>\n",
       "      <td>16</td>\n",
       "      <td>15.0</td>\n",
       "      <td>8.0</td>\n",
       "      <td>1.0</td>\n",
       "      <td>-6.0</td>\n",
       "      <td>3.0</td>\n",
       "    </tr>\n",
       "    <tr>\n",
       "      <th>2019-07-01</th>\n",
       "      <td>14</td>\n",
       "      <td>16.0</td>\n",
       "      <td>15.0</td>\n",
       "      <td>-2.0</td>\n",
       "      <td>-3.0</td>\n",
       "      <td>4.0</td>\n",
       "    </tr>\n",
       "    <tr>\n",
       "      <th>2019-10-01</th>\n",
       "      <td>11</td>\n",
       "      <td>14.0</td>\n",
       "      <td>16.0</td>\n",
       "      <td>-3.0</td>\n",
       "      <td>-1.0</td>\n",
       "      <td>3.0</td>\n",
       "    </tr>\n",
       "  </tbody>\n",
       "</table>\n",
       "</div>"
      ],
      "text/plain": [
       "             y  Lag_y  Lag2_y  D_y  D2_y  S_y\n",
       "trimestre                                    \n",
       "2018-01-01  10    NaN     NaN  NaN   NaN  NaN\n",
       "2018-04-01  13   10.0     NaN  3.0   NaN  NaN\n",
       "2018-07-01  10   13.0    10.0 -3.0  -6.0  NaN\n",
       "2018-10-01   8   10.0    13.0 -2.0   1.0  NaN\n",
       "2019-01-01  15    8.0    10.0  7.0   9.0  5.0\n",
       "2019-04-01  16   15.0     8.0  1.0  -6.0  3.0\n",
       "2019-07-01  14   16.0    15.0 -2.0  -3.0  4.0\n",
       "2019-10-01  11   14.0    16.0 -3.0  -1.0  3.0"
      ]
     },
     "execution_count": 6,
     "metadata": {},
     "output_type": "execute_result"
    }
   ],
   "source": [
    "datos"
   ]
  },
  {
   "cell_type": "markdown",
   "metadata": {},
   "source": [
    "Nótese que a pesar de que la serie original está en números enteros, las demás están en floats (dependiendo de su versión de pandas). Esto se debe a que versiones de Pandas anteriores a la 1.0 no tienen un valor para datos faltantes (NaN) para números enteros."
   ]
  }
 ],
 "metadata": {
  "kernelspec": {
   "display_name": "Python [conda env:root] *",
   "language": "python",
   "name": "conda-root-py"
  },
  "language_info": {
   "codemirror_mode": {
    "name": "ipython",
    "version": 3
   },
   "file_extension": ".py",
   "mimetype": "text/x-python",
   "name": "python",
   "nbconvert_exporter": "python",
   "pygments_lexer": "ipython3",
   "version": "3.8.5"
  }
 },
 "nbformat": 4,
 "nbformat_minor": 4
}
