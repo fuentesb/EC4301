{
 "cells": [
  {
   "cell_type": "markdown",
   "metadata": {},
   "source": [
    "<img src=\"escuela-de-economia.png\" width=\"260\" height=\"60\">\n",
    "<center>\n",
    "    <b>EC4301 MACROECONOMETRÍA</b><br>\n",
    "    <b>Profesor:  Randall Romero Aguilar, PhD</b>\n",
    "<br><br>\n",
    "<b>Laboratorio:</b>\n",
    "<div style=\"font-size:175%;color:white; background-color: #0064b0;\">Tema 1: Introducción a series de tiempo</div>\n",
    "<div style=\"font-size:250%;color:white; background-color: #0064b0;\">Cálculo de transformaciones de la serie del PIB de Costa Rica</div> \n",
    "</center>\n",
    "<i>Creado:     2020-Ene-16 \n",
    "    <br>\n",
    "    Actualizado: 2020-Sep-11</i>\n",
    "\n",
    "## \n",
    "\n",
    "Este cuaderno genera figuras incluidas en **Handout-01--Introduccion.pdf**"
   ]
  },
  {
   "cell_type": "markdown",
   "metadata": {},
   "source": [
    "## Cargar paquetes necesarios"
   ]
  },
  {
   "cell_type": "code",
   "execution_count": null,
   "metadata": {},
   "outputs": [],
   "source": [
    "import pandas as pd\n",
    "import numpy as np\n",
    "import matplotlib.pyplot as plt\n",
    "plt.style.use('seaborn')"
   ]
  },
  {
   "cell_type": "markdown",
   "metadata": {},
   "source": [
    "## Definir ubicación de archivos de datos"
   ]
  },
  {
   "cell_type": "code",
   "execution_count": null,
   "metadata": {},
   "outputs": [],
   "source": [
    "GITHUB_REPO = \"https://raw.githubusercontent.com/randall-romero/EC4301/master/Laboratorios/Tema01-Introducci%C3%B3n/data/\"\n",
    "DATAPATH = GITHUB_REPO if 'google.colab' in str(get_ipython()) else 'data/'"
   ]
  },
  {
   "cell_type": "markdown",
   "metadata": {},
   "source": [
    "## Importar los datos"
   ]
  },
  {
   "cell_type": "code",
   "execution_count": null,
   "metadata": {},
   "outputs": [],
   "source": [
    "pib = pd.read_csv(DATAPATH + 'CR-PIB.csv', index_col=0, parse_dates=True)\n",
    "pib"
   ]
  },
  {
   "cell_type": "code",
   "execution_count": null,
   "metadata": {},
   "outputs": [],
   "source": [
    "def figura(datos, titulo, y):\n",
    "    fig, ax = plt.subplots(1,1, figsize=[8,3])\n",
    "    datos.plot(ax=ax, legend=\"\")\n",
    "    ax.set(title=titulo, ylabel=y, xlabel=\"\")\n",
    "    return ax"
   ]
  },
  {
   "cell_type": "markdown",
   "metadata": {},
   "source": [
    "### Nivel de la serie\n",
    "\n",
    "* Antes de modelar una serie de tiempo, es útil representarla con un gráfico para detectar algunas de sus propiedades.\n",
    "* En este caso: el PIB\n",
    "    -  muestra una tendencia positiva\n",
    "    - tiene variaciones estacionarias\n",
    "* En lo que sigue, nos referimos a esta serie en nivel como $y_t$."
   ]
  },
  {
   "cell_type": "code",
   "execution_count": null,
   "metadata": {},
   "outputs": [],
   "source": [
    "figura(pib, 'Producto Interno Bruto de Costa Rica', 'billones de colones constantes');"
   ]
  },
  {
   "cell_type": "markdown",
   "metadata": {},
   "source": [
    "### Primera diferencia de la serie\n",
    "\n",
    "\\begin{equation*}\n",
    "\\Delta y_t \\equiv y_t - y_{t-1}\n",
    "\\end{equation*}\n",
    "\n",
    "\n",
    "* Esta transformación\n",
    "    - elimina la tendencia de la serie,\n",
    "    - mantiene las oscilaciones estacionales.\n"
   ]
  },
  {
   "cell_type": "code",
   "execution_count": null,
   "metadata": {},
   "outputs": [],
   "source": [
    "figura(pib.diff(1), 'Cambio trimestral en el PIB de Costa Rica,','billones de colones constantes');"
   ]
  },
  {
   "cell_type": "markdown",
   "metadata": {},
   "source": [
    "### Tasa de crecimiento de la serie\n",
    "\n",
    "\\begin{equation*}\n",
    "\\Delta\\% y_t \\equiv \\frac{y_t - y_{t-1}}{y_{t-1}} \\times 100\n",
    "\\end{equation*}\n",
    "\n",
    "\n",
    "* Elimina tendencia, mantiene estacionalidad.\n",
    "* Limitación: asimetría con respecto a cambios positivos y negativos: Subir de 100 a 125 (aumento de 25\\%), bajar de 125 a 100 (caída de “solo” 20\\%).\n"
   ]
  },
  {
   "cell_type": "code",
   "execution_count": null,
   "metadata": {},
   "outputs": [],
   "source": [
    "figura(100*pib.pct_change(1), 'Tasa de crecimiento trimestral del PIB de Costa Rica', 'por ciento');"
   ]
  },
  {
   "cell_type": "markdown",
   "metadata": {},
   "source": [
    "### Tasa “continua” de crecimiento de la serie\n",
    "\n",
    "\\begin{equation*}\n",
    "\\Delta\\% y_t \\approx \\left(\\ln y_t - \\ln y_{t-1}\\right)\\times 100\n",
    "\\end{equation*}\n",
    "\n",
    "* Similar a la anterior porque $\\ln(1+x)\\approx x$ si $x$ es “pequeño”\n",
    "* Ventaja: simetría con respecto a cambios positivos y negativos"
   ]
  },
  {
   "cell_type": "code",
   "execution_count": null,
   "metadata": {},
   "outputs": [],
   "source": [
    "figura(100*np.log(pib).diff(), 'Tasa de crecimiento trimestral del PIB de Costa Rica', 'por ciento');"
   ]
  },
  {
   "cell_type": "markdown",
   "metadata": {},
   "source": [
    "### Diferencia interanual de la serie\n",
    "\\begin{equation*}\n",
    "\\Delta_4 y_t \\equiv y_t - y_{t-4}\n",
    "\\end{equation*}\n",
    "\n",
    "* Elimina tanto la tendencia como el componente estacional\n",
    "* Nótese la fuerte disminución del PIB durante la crisis de 2008.\n"
   ]
  },
  {
   "cell_type": "code",
   "execution_count": null,
   "metadata": {},
   "outputs": [],
   "source": [
    "figura(pib.diff(4), 'Cambio interanual en el PIB de Costa Rica','billones de colones constantes');"
   ]
  },
  {
   "cell_type": "markdown",
   "metadata": {},
   "source": [
    "### Tasa de crecimiento interanual\n",
    "\n",
    "\\begin{equation*}\n",
    "\\Delta_4\\% y_t \\approx \\left(\\ln y_t - \\ln y_{t-4}\\right)\\times 100\n",
    "\\end{equation*}\n",
    "\n",
    "* Equivalente a la suma de las tasas de crecimiento de los cuatro trimestres comprendidos en el año:\n",
    "\\begin{align*}\n",
    "\\Delta_4\\% y_t &\\approx \\left(\\ln y_t - \\ln y_{t-4}\\right)\\times 100 \\\\\n",
    "  &= \\left(\\ln y_{t} - \\ln y_{t-1} + \\ln y_{t-1} - \\ln y_{t-2} + \\ln y_{t-2} - \\ln y_{t-3} + \\ln y_{t-3} - \\ln y_{t-4}\\right)\\times 100 \\\\\n",
    "  &= \\Delta\\% y_{t} + \\Delta\\% y_{t-1} + \\Delta\\% y_{t-2} + \\Delta\\% y_{t-3}\n",
    "\\end{align*}\n"
   ]
  },
  {
   "cell_type": "code",
   "execution_count": null,
   "metadata": {},
   "outputs": [],
   "source": [
    "figura(100*np.log(pib).diff(4), 'Tasa de crecimiento interanual del PIB de Costa Rica', 'por ciento');"
   ]
  },
  {
   "cell_type": "markdown",
   "metadata": {},
   "source": [
    "### Serie suavizada por media móvil\n",
    "\\begin{equation*}\n",
    "y^s_t \\equiv \\tfrac{1}{4}\\left(y_t + y_{t-1} + y_{t-2} + y_{t-3}\\right)\n",
    "\\end{equation*}\n",
    "\n",
    "* Elimina el componente estacional, pero manteniendo la tendencia\n",
    "* Se observa un cambio estructural en 2008-2009."
   ]
  },
  {
   "cell_type": "code",
   "execution_count": null,
   "metadata": {},
   "outputs": [],
   "source": [
    "ax = figura(pib, 'Producto Interno Bruto de Costa Rica', 'billones de colones constantes')\n",
    "pib.rolling(4).mean().plot(ax=ax)\n",
    "ax.set(xlabel=\"\")\n",
    "ax.legend(['Serie original', 'Serie suavizada'])"
   ]
  }
 ],
 "metadata": {
  "kernel_info": {
   "name": "python3"
  },
  "kernelspec": {
   "display_name": "Python 3",
   "language": "python",
   "name": "python3"
  },
  "language_info": {
   "codemirror_mode": {
    "name": "ipython",
    "version": 3
   },
   "file_extension": ".py",
   "mimetype": "text/x-python",
   "name": "python",
   "nbconvert_exporter": "python",
   "pygments_lexer": "ipython3",
   "version": "3.8.3"
  },
  "nteract": {
   "version": "0.15.0"
  }
 },
 "nbformat": 4,
 "nbformat_minor": 4
}
