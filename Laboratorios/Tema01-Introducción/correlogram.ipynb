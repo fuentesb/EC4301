{
 "cells": [
  {
   "cell_type": "markdown",
   "metadata": {},
   "source": [
    "<img src=\"escuela-de-economia.png\" width=\"260\" height=\"60\">\n",
    "<center>\n",
    "    <b>EC4301 MACROECONOMETRÍA</b><br>\n",
    "    <b>Profesor:  Randall Romero Aguilar, PhD</b>\n",
    "<br><br>\n",
    "<b>Laboratorio:</b>\n",
    "<div style=\"font-size:175%;color:white; background-color: #0064b0;\">Tema 1: Introducción a series de tiempo</div>\n",
    "<div style=\"font-size:250%;color:white; background-color: #0064b0;\">Calculando el autocorrelograma para el IMAE de Costa Rica</div>\n",
    "</center>\n",
    "    \n",
    "<i>Creado:     2020-Mar-05 \n",
    "<br>\n",
    "Actualizado: 2020-Sep-08</i>\n",
    "\n",
    "\n",
    "\n",
    "Ejemplo numérico para ilustrar el uso del autocorrelograma y el autocorrelograma parcial.\n",
    "\n",
    "\n",
    "Este cuaderno genera figuras que están incluidas en **Handout-01--Introduccion.pdf**"
   ]
  },
  {
   "cell_type": "code",
   "execution_count": null,
   "metadata": {},
   "outputs": [],
   "source": [
    "if 'google.colab' in str(get_ipython()):\n",
    "    print(\"Este cuaderno está corriendo en Google Colab. Es necesario instalar el paquete bccr para obtener los datos\")\n",
    "    !pip install bccr\n",
    "else:\n",
    "    print(\"Este cuaderno está corriendo localmente.\")\n"
   ]
  },
  {
   "cell_type": "code",
   "execution_count": null,
   "metadata": {},
   "outputs": [],
   "source": [
    "from bccr import ServicioWeb\n",
    "import matplotlib.pyplot as plt\n",
    "plt.style.use('seaborn')\n",
    "import pandas as pd\n",
    "import numpy as np\n",
    "import statsmodels.api as sm\n",
    "from scipy.stats.distributions import chi2\n",
    "import os"
   ]
  },
  {
   "cell_type": "markdown",
   "metadata": {},
   "source": [
    "### Importamos los datos\n",
    "La clase `ServicioWeb` permite obtener datos directamente del Banco Central de Costa Rica"
   ]
  },
  {
   "cell_type": "code",
   "execution_count": null,
   "metadata": {},
   "outputs": [],
   "source": [
    "consulta = ServicioWeb()"
   ]
  },
  {
   "cell_type": "markdown",
   "metadata": {},
   "source": [
    "Buscamos series que tenga \"IMAE\" en su DESCRIPCION, frecuencia mensual. Filtramos los resultados para ver solo las series en nivel, y dejamos solo aquellos qe tengan la palabra \"IMAE\" en su descripción"
   ]
  },
  {
   "cell_type": "code",
   "execution_count": null,
   "metadata": {},
   "outputs": [],
   "source": [
    "imaes = consulta.buscar(todos='IMAE', frecuencia='M')\n",
    "imaes = imaes[imaes.Unidad == 'Nivel']\n",
    "imaes[imaes.descripcion.str.contains('IMAE')]"
   ]
  },
  {
   "cell_type": "markdown",
   "metadata": {},
   "source": [
    "De esta lista, escogemos los indicadores 35449 (serie original) y 35553 (tendencia-ciclo). Descargamos los datos y cambiamos los nombres de las series."
   ]
  },
  {
   "cell_type": "code",
   "execution_count": null,
   "metadata": {},
   "outputs": [],
   "source": [
    "imae = consulta([35449, 35553])\n",
    "imae.rename(columns ={'35449':'Original','35553':'Tendencia-ciclo'}, inplace=True)"
   ]
  },
  {
   "cell_type": "markdown",
   "metadata": {},
   "source": [
    "Graficamos las dos series para ver su dinamica."
   ]
  },
  {
   "cell_type": "code",
   "execution_count": null,
   "metadata": {},
   "outputs": [],
   "source": [
    "imae.plot(figsize=[12,5])"
   ]
  },
  {
   "cell_type": "markdown",
   "metadata": {},
   "source": [
    "## Autocorrelograma\n",
    "\n",
    "Obtenemos autocorrelogramas (48 rezagos, con intervalos de 95% de significancia (Bartlett)) para las series en nivel, primera diferencia, y diferencia estacional."
   ]
  },
  {
   "cell_type": "code",
   "execution_count": null,
   "metadata": {},
   "outputs": [],
   "source": [
    "OPCIONES = dict(lags=48, alpha=0.05, title='')\n",
    "plot_acf = sm.graphics.tsa.plot_acf\n",
    "plot_pacf = sm.graphics.tsa.plot_pacf\n",
    "log_imae = np.log(imae)"
   ]
  },
  {
   "cell_type": "code",
   "execution_count": null,
   "metadata": {},
   "outputs": [],
   "source": [
    "fig, axs = plt.subplots(3,2, figsize=[12,9], sharex=True, sharey=True)\n",
    "\n",
    "for indic, ax in zip(imae, axs.T):\n",
    "    plot_acf(log_imae[indic].dropna(), ax=ax[0], **OPCIONES);\n",
    "    plot_acf(log_imae[indic].diff().dropna(), ax=ax[1], **OPCIONES);\n",
    "    plot_acf(log_imae[indic].diff(12).dropna(), ax=ax[2], **OPCIONES);\n",
    "\n",
    "for indic, ax in zip(imae, axs[0]):\n",
    "    ax.set_title(indic)\n",
    "\n",
    "for ax in axs[-1]:\n",
    "    ax.set_xlabel(r'Rezago $\\tau$')\n",
    "    ax.set_xticks(np.arange(0,49,12));\n",
    "\n",
    "axs[0,0].set_ylabel(r'$\\log(IMAE)$')\n",
    "axs[1,0].set_ylabel(r'$\\Delta log(IMAE)$')\n",
    "axs[2,0].set_ylabel(r'$\\Delta_{12} log(IMAE)$')\n",
    "\n",
    "fig.suptitle('Autocorrelograma del IMAE (original y tendencia-ciclo) en Costa Rica', size=16)\n",
    "#fig.savefig('figures/IMAE-acf.pdf', bbox_inches='tight')    "
   ]
  },
  {
   "cell_type": "markdown",
   "metadata": {},
   "source": [
    "## Autocorrelograma parcial\n",
    "\n",
    "Repetimos el ejercicio, pero esta vez obtenemos autocorrelogramas parciales (48 rezagos, con intervalos de 95% de significancia) para las series en nivel, primera diferencia, y diferencia estacional."
   ]
  },
  {
   "cell_type": "code",
   "execution_count": null,
   "metadata": {},
   "outputs": [],
   "source": [
    "OPCIONES = dict(lags=48, alpha=0.05, title='', method='ols')\n",
    "\n",
    "fig, axs = plt.subplots(3,2, figsize=[12,9], sharex=True, sharey=True)\n",
    "\n",
    "for indic, ax in zip(imae, axs.T):\n",
    "    plot_pacf(log_imae[indic].dropna(), ax=ax[0], **OPCIONES);\n",
    "    plot_pacf(log_imae[indic].diff().dropna(), ax=ax[1], **OPCIONES);\n",
    "    plot_pacf(log_imae[indic].diff(12).dropna(), ax=ax[2], **OPCIONES);\n",
    "\n",
    "for indic, ax in zip(imae, axs[0]):\n",
    "    ax.set_title(indic)\n",
    "\n",
    "for ax in axs[-1]:\n",
    "    ax.set_xlabel(r'Rezago $\\tau$')\n",
    "    ax.set_xticks(np.arange(0,49,12));\n",
    "\n",
    "axs[0,0].set_ylabel(r'$\\log(IMAE)$')\n",
    "axs[1,0].set_ylabel(r'$\\Delta log(IMAE)$')\n",
    "axs[2,0].set_ylabel(r'$\\Delta_{12} log(IMAE)$')\n",
    "\n",
    "fig.suptitle('Autocorrelograma parcial del IMAE (original y tendencia-ciclo) en Costa Rica', size=16)\n",
    "#fig.savefig('figures/IMAE-pacf.pdf', bbox_inches='tight')    "
   ]
  },
  {
   "cell_type": "markdown",
   "metadata": {},
   "source": [
    "## Pruebas de ruido blanco\n",
    "\n",
    "¿Es es crecimiento mensual del IMAE tendencia-ciclo un proceso ruido blanco?"
   ]
  },
  {
   "cell_type": "code",
   "execution_count": null,
   "metadata": {},
   "outputs": [],
   "source": [
    "growth = log_imae['Tendencia-ciclo'].diff().dropna()\n",
    "T = growth.size  # número de datos\n",
    "M = 7   # máximo número de rezagos\n",
    "rezagos = np.arange(1, M+1)\n",
    "alpha = 0.05  # significancia de los test"
   ]
  },
  {
   "cell_type": "markdown",
   "metadata": {},
   "source": [
    "Calculamos las autocovarianzas, a partir de un rezago"
   ]
  },
  {
   "cell_type": "code",
   "execution_count": null,
   "metadata": {},
   "outputs": [],
   "source": [
    "rho = sm.tsa.acf(growth, fft=True, nlags=M)[1:] "
   ]
  },
  {
   "cell_type": "markdown",
   "metadata": {},
   "source": [
    "Calculamos el estadístico de Box-Pierce, para todos los rezagos desde el 1 hasta el 7\n",
    "\n",
    "\\begin{equation}\n",
    "Q^{*} = T\\sum_{j=1}^{m}\\hat{\\rho}_j^2 \\; \\overset{\\text{asy}}{\\sim} \\; \\chi^2_{m-k}\n",
    "\\end{equation}"
   ]
  },
  {
   "cell_type": "code",
   "execution_count": null,
   "metadata": {},
   "outputs": [],
   "source": [
    "Qstar = T * (rho ** 2).cumsum()"
   ]
  },
  {
   "cell_type": "markdown",
   "metadata": {},
   "source": [
    "Calculamos el estadístico de Ljung-Box\n",
    "\n",
    "\\begin{equation}\n",
    "Q = T(T+2)\\sum_{j=1}^{m}\\frac{\\hat{\\rho}_j^2}{T-j} \\; \\overset{\\text{asy}}{\\sim} \\; \\chi^2_{m-k}\n",
    "\\end{equation}"
   ]
  },
  {
   "cell_type": "code",
   "execution_count": null,
   "metadata": {},
   "outputs": [],
   "source": [
    "Q = T * (T+2) * ((rho ** 2)/(T-rezagos)).cumsum()"
   ]
  },
  {
   "cell_type": "markdown",
   "metadata": {},
   "source": [
    "Calculamos los valores críticos, tomando en cuenta que $k=0$ porque los datos que estamos usando no son residuos"
   ]
  },
  {
   "cell_type": "code",
   "execution_count": null,
   "metadata": {},
   "outputs": [],
   "source": [
    "vcrits = np.array([chi2(k).ppf(1-alpha) for k in rezagos])"
   ]
  },
  {
   "cell_type": "markdown",
   "metadata": {},
   "source": [
    "Con carácter informativo nada más, calculamos la autocorrelación parcial"
   ]
  },
  {
   "cell_type": "code",
   "execution_count": null,
   "metadata": {},
   "outputs": [],
   "source": [
    "rhop = sm.tsa.pacf(growth, nlags=M, method='ols')[1:]"
   ]
  },
  {
   "cell_type": "markdown",
   "metadata": {},
   "source": [
    "Juntamos todos los resultados en una tabla de resumen."
   ]
  },
  {
   "cell_type": "code",
   "execution_count": null,
   "metadata": {},
   "outputs": [],
   "source": [
    "resumen = pd.DataFrame({'AC':rho, 'PAC': rhop, 'Box-Pierce':Qstar, 'Ljung-Box':Q, f'$\\chi^2(m-k)$': vcrits}, index=rezagos)\n",
    "resumen.index.name = 'Rezagos'\n",
    "\n",
    "resumen.round(3)"
   ]
  },
  {
   "cell_type": "markdown",
   "metadata": {},
   "source": [
    "### Exportar datos\n",
    "Finalmente, exportamos los datos para poder replicar este ejercicio con otros programas (Stata, EViews, R)."
   ]
  },
  {
   "cell_type": "code",
   "execution_count": null,
   "metadata": {},
   "outputs": [],
   "source": [
    "if not os.path.exists('data/'):\n",
    "    os.mkdir('data')\n",
    "log_imae.to_csv('data/log_imae.csv')"
   ]
  }
 ],
 "metadata": {
  "kernel_info": {
   "name": "python3"
  },
  "kernelspec": {
   "display_name": "Python 3",
   "language": "python",
   "name": "python3"
  },
  "language_info": {
   "codemirror_mode": {
    "name": "ipython",
    "version": 3
   },
   "file_extension": ".py",
   "mimetype": "text/x-python",
   "name": "python",
   "nbconvert_exporter": "python",
   "pygments_lexer": "ipython3",
   "version": "3.8.5"
  },
  "nteract": {
   "version": "0.22.0"
  }
 },
 "nbformat": 4,
 "nbformat_minor": 4
}
