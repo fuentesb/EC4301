{
 "cells": [
  {
   "cell_type": "markdown",
   "metadata": {},
   "source": [
    "<img src=\"escuela-de-economia.png\" width=\"260\" height=\"60\">\n",
    "<center>\n",
    "    <b>EC4301 MACROECONOMETRÍA</b><br>\n",
    "    <b>Profesor:  Randall Romero Aguilar, PhD</b>\n",
    "<br><br>\n",
    "<b>Laboratorio:</b>\n",
    "<div style=\"font-size:175%;color:white; background-color: #0064b0;\">Tema 1: Introducción a series de tiempo</div>\n",
    "<div style=\"font-size:250%;color:white; background-color: #0064b0;\">Calculando autocorrelogramas </div>\n",
    "    \n",
    "</center>\n",
    "<i>Creado:     2020-Mar-05 \n",
    "<br>\n",
    "Actualizado: 2020-Ago-25</i>\n",
    "\n",
    "\n",
    "\n",
    "Ejemplo numérico para ilustrar las pruebas de Box-Pierce y Ljung-Box.\n",
    "\n",
    "\n",
    "Este cuaderno genera figuras que están incluidas en **Handout-01--Introduccion.pdf**"
   ]
  },
  {
   "cell_type": "code",
   "execution_count": 1,
   "metadata": {},
   "outputs": [],
   "source": [
    "import matplotlib.pyplot as plt\n",
    "plt.style.use('seaborn')\n",
    "import pandas as pd\n",
    "import numpy as np\n",
    "import statsmodels.api as sm\n",
    "from scipy.stats.distributions import chi2"
   ]
  },
  {
   "cell_type": "markdown",
   "metadata": {},
   "source": [
    "## EJEMPLO 1> Crecimiento del IMAE de Costa Rica, serie tendencia-ciclo\n",
    "\n",
    "¿Es es crecimiento mensual del IMAE tendencia-ciclo un proceso ruido blanco?"
   ]
  },
  {
   "cell_type": "code",
   "execution_count": 2,
   "metadata": {},
   "outputs": [],
   "source": [
    "log_imae = pd.read_csv('data/log_imae.csv')\n",
    "log_imae.index = pd.period_range(start='1991-01', freq='M', periods=log_imae.shape[0])"
   ]
  },
  {
   "cell_type": "code",
   "execution_count": 3,
   "metadata": {},
   "outputs": [],
   "source": [
    "growth = log_imae['Tendencia-ciclo'].diff().dropna()\n",
    "T = growth.size  # número de datos\n",
    "M = 7   # máximo número de rezagos\n",
    "rezagos = np.arange(1, M+1)\n",
    "alpha = 0.05  # significancia de los test"
   ]
  },
  {
   "cell_type": "markdown",
   "metadata": {},
   "source": [
    "Calculamos las autocovarianzas, a partir de un rezago"
   ]
  },
  {
   "cell_type": "code",
   "execution_count": 4,
   "metadata": {},
   "outputs": [],
   "source": [
    "rho = sm.tsa.acf(growth, fft=True, nlags=M)[1:] "
   ]
  },
  {
   "cell_type": "markdown",
   "metadata": {},
   "source": [
    "Calculamos el estadístico de Box-Pierce, para todos los rezagos desde el 1 hasta el 7\n",
    "\n",
    "\\begin{equation}\n",
    "Q^{*} = T\\sum_{j=1}^{m}\\hat{\\rho}_j^2 \\; \\overset{\\text{asy}}{\\sim} \\; \\chi^2_{m-k}\n",
    "\\end{equation}"
   ]
  },
  {
   "cell_type": "code",
   "execution_count": 5,
   "metadata": {},
   "outputs": [],
   "source": [
    "Qstar = T * (rho ** 2).cumsum()"
   ]
  },
  {
   "cell_type": "markdown",
   "metadata": {},
   "source": [
    "Calculamos el estadístico de Ljung-Box\n",
    "\n",
    "\\begin{equation}\n",
    "Q = T(T+2)\\sum_{j=1}^{m}\\frac{\\hat{\\rho}_j^2}{T-j} \\; \\overset{\\text{asy}}{\\sim} \\; \\chi^2_{m-k}\n",
    "\\end{equation}"
   ]
  },
  {
   "cell_type": "code",
   "execution_count": 6,
   "metadata": {},
   "outputs": [],
   "source": [
    "Q = T * (T+2) * ((rho ** 2)/(T-rezagos)).cumsum()"
   ]
  },
  {
   "cell_type": "markdown",
   "metadata": {},
   "source": [
    "Calculamos los valores críticos, tomando en cuenta que $k=0$ porque los datos que estamos usando no son residuos"
   ]
  },
  {
   "cell_type": "code",
   "execution_count": 7,
   "metadata": {},
   "outputs": [],
   "source": [
    "vcrits = np.array([chi2(k).ppf(1-alpha) for k in rezagos])"
   ]
  },
  {
   "cell_type": "markdown",
   "metadata": {},
   "source": [
    "Con carácter informativo nada más, calculamos la autocorrelación parcial"
   ]
  },
  {
   "cell_type": "code",
   "execution_count": 8,
   "metadata": {},
   "outputs": [],
   "source": [
    "rhop = sm.tsa.pacf(growth, nlags=M, method='ols')[1:]"
   ]
  },
  {
   "cell_type": "markdown",
   "metadata": {},
   "source": [
    "Juntamos todos los resultados en una tabla de resumen."
   ]
  },
  {
   "cell_type": "code",
   "execution_count": 9,
   "metadata": {},
   "outputs": [
    {
     "data": {
      "text/html": [
       "<div>\n",
       "<style scoped>\n",
       "    .dataframe tbody tr th:only-of-type {\n",
       "        vertical-align: middle;\n",
       "    }\n",
       "\n",
       "    .dataframe tbody tr th {\n",
       "        vertical-align: top;\n",
       "    }\n",
       "\n",
       "    .dataframe thead th {\n",
       "        text-align: right;\n",
       "    }\n",
       "</style>\n",
       "<table border=\"1\" class=\"dataframe\">\n",
       "  <thead>\n",
       "    <tr style=\"text-align: right;\">\n",
       "      <th></th>\n",
       "      <th>AC</th>\n",
       "      <th>PAC</th>\n",
       "      <th>Box-Pierce</th>\n",
       "      <th>Ljung-Box</th>\n",
       "      <th>$\\chi^2(m-k)$</th>\n",
       "    </tr>\n",
       "    <tr>\n",
       "      <th>Rezagos</th>\n",
       "      <th></th>\n",
       "      <th></th>\n",
       "      <th></th>\n",
       "      <th></th>\n",
       "      <th></th>\n",
       "    </tr>\n",
       "  </thead>\n",
       "  <tbody>\n",
       "    <tr>\n",
       "      <th>1</th>\n",
       "      <td>0.874</td>\n",
       "      <td>0.874</td>\n",
       "      <td>264.890</td>\n",
       "      <td>267.187</td>\n",
       "      <td>3.841</td>\n",
       "    </tr>\n",
       "    <tr>\n",
       "      <th>2</th>\n",
       "      <td>0.648</td>\n",
       "      <td>-0.490</td>\n",
       "      <td>410.499</td>\n",
       "      <td>414.484</td>\n",
       "      <td>5.991</td>\n",
       "    </tr>\n",
       "    <tr>\n",
       "      <th>3</th>\n",
       "      <td>0.493</td>\n",
       "      <td>0.428</td>\n",
       "      <td>494.871</td>\n",
       "      <td>500.082</td>\n",
       "      <td>7.815</td>\n",
       "    </tr>\n",
       "    <tr>\n",
       "      <th>4</th>\n",
       "      <td>0.402</td>\n",
       "      <td>-0.273</td>\n",
       "      <td>550.881</td>\n",
       "      <td>557.072</td>\n",
       "      <td>9.488</td>\n",
       "    </tr>\n",
       "    <tr>\n",
       "      <th>5</th>\n",
       "      <td>0.353</td>\n",
       "      <td>0.365</td>\n",
       "      <td>594.074</td>\n",
       "      <td>601.149</td>\n",
       "      <td>11.070</td>\n",
       "    </tr>\n",
       "    <tr>\n",
       "      <th>6</th>\n",
       "      <td>0.338</td>\n",
       "      <td>-0.213</td>\n",
       "      <td>633.676</td>\n",
       "      <td>641.680</td>\n",
       "      <td>12.592</td>\n",
       "    </tr>\n",
       "    <tr>\n",
       "      <th>7</th>\n",
       "      <td>0.331</td>\n",
       "      <td>0.255</td>\n",
       "      <td>671.693</td>\n",
       "      <td>680.704</td>\n",
       "      <td>14.067</td>\n",
       "    </tr>\n",
       "  </tbody>\n",
       "</table>\n",
       "</div>"
      ],
      "text/plain": [
       "            AC    PAC  Box-Pierce  Ljung-Box  $\\chi^2(m-k)$\n",
       "Rezagos                                                    \n",
       "1        0.874  0.874     264.890    267.187          3.841\n",
       "2        0.648 -0.490     410.499    414.484          5.991\n",
       "3        0.493  0.428     494.871    500.082          7.815\n",
       "4        0.402 -0.273     550.881    557.072          9.488\n",
       "5        0.353  0.365     594.074    601.149         11.070\n",
       "6        0.338 -0.213     633.676    641.680         12.592\n",
       "7        0.331  0.255     671.693    680.704         14.067"
      ]
     },
     "execution_count": 9,
     "metadata": {},
     "output_type": "execute_result"
    }
   ],
   "source": [
    "resumen = pd.DataFrame({'AC':rho, 'PAC': rhop, 'Box-Pierce':Qstar, 'Ljung-Box':Q, f'$\\chi^2(m-k)$': vcrits}, index=rezagos)\n",
    "resumen.index.name = 'Rezagos'\n",
    "\n",
    "resumen.round(3)"
   ]
  },
  {
   "cell_type": "markdown",
   "metadata": {},
   "source": [
    "Graficamos los datos y el autocorrelograma"
   ]
  },
  {
   "cell_type": "code",
   "execution_count": 10,
   "metadata": {},
   "outputs": [
    {
     "data": {
      "image/png": "[encoded data removed]",
      "text/plain": [
       "<Figure size 576x432 with 2 Axes>"
      ]
     },
     "metadata": {},
     "output_type": "display_data"
    }
   ],
   "source": [
    "fig, axs = plt.subplots(2,1, figsize=[8,6])\n",
    "growth.plot(ax=axs[0], title='Evolución del crecimiento del IMAE')\n",
    "sm.graphics.tsa.plot_acf(growth, ax=axs[1], lags=48, alpha=0.05, title='Autocorrelograma');"
   ]
  },
  {
   "cell_type": "markdown",
   "metadata": {},
   "source": [
    "## EJEMPLO 2> Crecimiento del tipo de cambio Euro/USD\n",
    "\n",
    "¿Es es crecimiento diario del tipo de cambio euro-dólar un proceso ruido blanco?"
   ]
  },
  {
   "cell_type": "code",
   "execution_count": 11,
   "metadata": {},
   "outputs": [],
   "source": [
    "euro = pd.read_csv('data/euro.csv')\n",
    "#euro.index = pd.to_datetime(euro['fecha'])\n",
    "euro.drop('fecha',inplace=True,axis=1)"
   ]
  },
  {
   "cell_type": "code",
   "execution_count": 12,
   "metadata": {},
   "outputs": [],
   "source": [
    "depreciacion = euro.diff().dropna()\n",
    "T = depreciacion.shape[0]  # número de datos\n",
    "M = 7   # máximo número de rezagos\n",
    "rezagos = np.arange(1, M+1)\n",
    "alpha = 0.05  # significancia de los test"
   ]
  },
  {
   "cell_type": "markdown",
   "metadata": {},
   "source": [
    "Calculamos las autocovarianzas, a partir de un rezago"
   ]
  },
  {
   "cell_type": "code",
   "execution_count": 13,
   "metadata": {},
   "outputs": [],
   "source": [
    "rho = sm.tsa.acf(depreciacion, fft=True, nlags=M)[1:] "
   ]
  },
  {
   "cell_type": "markdown",
   "metadata": {},
   "source": [
    "Calculamos el estadístico de Box-Pierce, para todos los rezagos desde el 1 hasta el 7\n",
    "\n",
    "\\begin{equation}\n",
    "Q^{*} = T\\sum_{j=1}^{m}\\hat{\\rho}_j^2 \\; \\overset{\\text{asy}}{\\sim} \\; \\chi^2_{m-k}\n",
    "\\end{equation}"
   ]
  },
  {
   "cell_type": "code",
   "execution_count": 14,
   "metadata": {},
   "outputs": [],
   "source": [
    "Qstar = T * (rho ** 2).cumsum()"
   ]
  },
  {
   "cell_type": "markdown",
   "metadata": {},
   "source": [
    "Calculamos el estadístico de Ljung-Box\n",
    "\n",
    "\\begin{equation}\n",
    "Q = T(T+2)\\sum_{j=1}^{m}\\frac{\\hat{\\rho}_j^2}{T-j} \\; \\overset{\\text{asy}}{\\sim} \\; \\chi^2_{m-k}\n",
    "\\end{equation}"
   ]
  },
  {
   "cell_type": "code",
   "execution_count": 15,
   "metadata": {},
   "outputs": [],
   "source": [
    "Q = T * (T+2) * ((rho ** 2)/(T-rezagos)).cumsum()"
   ]
  },
  {
   "cell_type": "markdown",
   "metadata": {},
   "source": [
    "Calculamos los valores críticos, tomando en cuenta que $k=0$ porque los datos que estamos usando no son residuos"
   ]
  },
  {
   "cell_type": "code",
   "execution_count": 16,
   "metadata": {},
   "outputs": [],
   "source": [
    "vcrits = np.array([chi2(k).ppf(1-alpha) for k in rezagos])"
   ]
  },
  {
   "cell_type": "markdown",
   "metadata": {},
   "source": [
    "Con carácter informativo nada más, calculamos la autocorrelación parcial"
   ]
  },
  {
   "cell_type": "code",
   "execution_count": 17,
   "metadata": {},
   "outputs": [],
   "source": [
    "rhop = sm.tsa.pacf(depreciacion, nlags=M, method='ols')[1:]"
   ]
  },
  {
   "cell_type": "markdown",
   "metadata": {},
   "source": [
    "Juntamos todos los resultados en una tabla de resumen."
   ]
  },
  {
   "cell_type": "code",
   "execution_count": 18,
   "metadata": {},
   "outputs": [
    {
     "data": {
      "text/plain": [
       "(5475, 1)"
      ]
     },
     "execution_count": 18,
     "metadata": {},
     "output_type": "execute_result"
    }
   ],
   "source": [
    "depreciacion.shape"
   ]
  },
  {
   "cell_type": "code",
   "execution_count": 19,
   "metadata": {},
   "outputs": [
    {
     "data": {
      "text/html": [
       "<div>\n",
       "<style scoped>\n",
       "    .dataframe tbody tr th:only-of-type {\n",
       "        vertical-align: middle;\n",
       "    }\n",
       "\n",
       "    .dataframe tbody tr th {\n",
       "        vertical-align: top;\n",
       "    }\n",
       "\n",
       "    .dataframe thead th {\n",
       "        text-align: right;\n",
       "    }\n",
       "</style>\n",
       "<table border=\"1\" class=\"dataframe\">\n",
       "  <thead>\n",
       "    <tr style=\"text-align: right;\">\n",
       "      <th></th>\n",
       "      <th>AC</th>\n",
       "      <th>PAC</th>\n",
       "      <th>Box-Pierce</th>\n",
       "      <th>Ljung-Box</th>\n",
       "      <th>$\\chi^2(m-k)$</th>\n",
       "    </tr>\n",
       "    <tr>\n",
       "      <th>Rezagos</th>\n",
       "      <th></th>\n",
       "      <th></th>\n",
       "      <th></th>\n",
       "      <th></th>\n",
       "      <th></th>\n",
       "    </tr>\n",
       "  </thead>\n",
       "  <tbody>\n",
       "    <tr>\n",
       "      <th>1</th>\n",
       "      <td>0.0042</td>\n",
       "      <td>0.0042</td>\n",
       "      <td>0.0948</td>\n",
       "      <td>0.0949</td>\n",
       "      <td>3.8415</td>\n",
       "    </tr>\n",
       "    <tr>\n",
       "      <th>2</th>\n",
       "      <td>-0.0063</td>\n",
       "      <td>-0.0064</td>\n",
       "      <td>0.3144</td>\n",
       "      <td>0.3146</td>\n",
       "      <td>5.9915</td>\n",
       "    </tr>\n",
       "    <tr>\n",
       "      <th>3</th>\n",
       "      <td>0.0001</td>\n",
       "      <td>0.0002</td>\n",
       "      <td>0.3145</td>\n",
       "      <td>0.3147</td>\n",
       "      <td>7.8147</td>\n",
       "    </tr>\n",
       "    <tr>\n",
       "      <th>4</th>\n",
       "      <td>0.0082</td>\n",
       "      <td>0.0082</td>\n",
       "      <td>0.6825</td>\n",
       "      <td>0.6831</td>\n",
       "      <td>9.4877</td>\n",
       "    </tr>\n",
       "    <tr>\n",
       "      <th>5</th>\n",
       "      <td>0.0022</td>\n",
       "      <td>0.0021</td>\n",
       "      <td>0.7082</td>\n",
       "      <td>0.7088</td>\n",
       "      <td>11.0705</td>\n",
       "    </tr>\n",
       "    <tr>\n",
       "      <th>6</th>\n",
       "      <td>-0.0076</td>\n",
       "      <td>-0.0076</td>\n",
       "      <td>1.0282</td>\n",
       "      <td>1.0293</td>\n",
       "      <td>12.5916</td>\n",
       "    </tr>\n",
       "    <tr>\n",
       "      <th>7</th>\n",
       "      <td>0.0106</td>\n",
       "      <td>0.0108</td>\n",
       "      <td>1.6485</td>\n",
       "      <td>1.6507</td>\n",
       "      <td>14.0671</td>\n",
       "    </tr>\n",
       "  </tbody>\n",
       "</table>\n",
       "</div>"
      ],
      "text/plain": [
       "             AC     PAC  Box-Pierce  Ljung-Box  $\\chi^2(m-k)$\n",
       "Rezagos                                                      \n",
       "1        0.0042  0.0042      0.0948     0.0949         3.8415\n",
       "2       -0.0063 -0.0064      0.3144     0.3146         5.9915\n",
       "3        0.0001  0.0002      0.3145     0.3147         7.8147\n",
       "4        0.0082  0.0082      0.6825     0.6831         9.4877\n",
       "5        0.0022  0.0021      0.7082     0.7088        11.0705\n",
       "6       -0.0076 -0.0076      1.0282     1.0293        12.5916\n",
       "7        0.0106  0.0108      1.6485     1.6507        14.0671"
      ]
     },
     "execution_count": 19,
     "metadata": {},
     "output_type": "execute_result"
    }
   ],
   "source": [
    "resumen = pd.DataFrame({'AC':rho, 'PAC': rhop, 'Box-Pierce':Qstar, 'Ljung-Box':Q, f'$\\chi^2(m-k)$': vcrits}, index=rezagos)\n",
    "resumen.index.name = 'Rezagos'\n",
    "\n",
    "resumen.round(4)"
   ]
  },
  {
   "cell_type": "markdown",
   "metadata": {},
   "source": [
    "Graficamos los datos y el autocorrelograma"
   ]
  },
  {
   "cell_type": "code",
   "execution_count": 20,
   "metadata": {},
   "outputs": [
    {
     "data": {
      "image/png": "[encoded data removed]",
      "text/plain": [
       "<Figure size 576x432 with 2 Axes>"
      ]
     },
     "metadata": {},
     "output_type": "display_data"
    }
   ],
   "source": [
    "fig, axs = plt.subplots(2,1, figsize=[8,6])\n",
    "depreciacion.plot(ax=axs[0], title='Evolución del cambio porcentual en EUR/USD')\n",
    "sm.graphics.tsa.plot_acf(depreciacion, zero=False, ax=axs[1], lags=48, alpha=0.05, title='Autocorrelograma');"
   ]
  }
 ],
 "metadata": {
  "kernel_info": {
   "name": "python3"
  },
  "kernelspec": {
   "display_name": "Python [conda env:root] *",
   "language": "python",
   "name": "conda-root-py"
  },
  "language_info": {
   "codemirror_mode": {
    "name": "ipython",
    "version": 3
   },
   "file_extension": ".py",
   "mimetype": "text/x-python",
   "name": "python",
   "nbconvert_exporter": "python",
   "pygments_lexer": "ipython3",
   "version": "3.8.5"
  },
  "nteract": {
   "version": "0.22.0"
  }
 },
 "nbformat": 4,
 "nbformat_minor": 4
}
