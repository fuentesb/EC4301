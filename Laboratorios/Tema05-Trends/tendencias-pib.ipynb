{
 "cells": [
  {
   "cell_type": "markdown",
   "metadata": {},
   "source": [
    "<img src=\"escuela-de-economia.png\" width=\"260\" height=\"60\">\n",
    "<center>\n",
    "    <b>EC4301 MACROECONOMETRÍA</b><br>\n",
    "    <b>Profesor:  Randall Romero Aguilar, PhD</b>\n",
    "<br><br>\n",
    "<b>Laboratorio:</b>\n",
    "<div style=\"font-size:175%;color:white; background-color: #0064b0;\">Tema 5: Modelos para series con tendencia</div>\n",
    "<div style=\"font-size:250%;color:white; background-color: #0064b0;\">Pruebas de raíz unitaria para el PIB en Costa Rica</div> \n",
    "</center>\n",
    "<i>Creado:     2020-May-01 \n",
    "    <br>\n",
    "    Actualizado: 2020-Oct-07</i>"
   ]
  },
  {
   "cell_type": "code",
   "execution_count": null,
   "metadata": {},
   "outputs": [],
   "source": [
    "if 'google.colab' in str(get_ipython()):\n",
    "    print(\"Este cuaderno está corriendo en Google Colab. Es necesario instalar el paquete bccr para obtener los datos\")\n",
    "    !pip install bccr\n",
    "else:\n",
    "    print(\"Este cuaderno está corriendo localmente.\")"
   ]
  },
  {
   "cell_type": "code",
   "execution_count": null,
   "metadata": {
    "Collapsed": "false"
   },
   "outputs": [],
   "source": [
    "import numpy as np\n",
    "import pandas as pd\n",
    "import matplotlib.pyplot as plt\n",
    "import statsmodels.formula.api as smf\n",
    "import statsmodels.api as sm"
   ]
  },
  {
   "cell_type": "code",
   "execution_count": null,
   "metadata": {
    "Collapsed": "false",
    "collapsed": false,
    "jupyter": {
     "outputs_hidden": false
    },
    "pycharm": {
     "name": "#%%\n"
    }
   },
   "outputs": [],
   "source": [
    "from statsmodels.tsa.stattools import adfuller, kpss"
   ]
  },
  {
   "cell_type": "code",
   "execution_count": null,
   "metadata": {
    "Collapsed": "false"
   },
   "outputs": [],
   "source": [
    "plt.style.use('seaborn')\n",
    "plt.rc('figure', figsize=(15,4))\n",
    "plt.rc('axes', titlesize=20, labelsize=14)\n",
    "plt.rc('legend', fontsize=14)\n",
    "plt.rc('xtick', labelsize=14)\n",
    "plt.rc('ytick', labelsize=14)"
   ]
  },
  {
   "cell_type": "markdown",
   "metadata": {
    "Collapsed": "false"
   },
   "source": [
    "# Obtener y graficar los datos del PIB"
   ]
  },
  {
   "cell_type": "markdown",
   "metadata": {
    "Collapsed": "false"
   },
   "source": [
    "## Descargar los datos"
   ]
  },
  {
   "cell_type": "code",
   "execution_count": null,
   "metadata": {
    "Collapsed": "false"
   },
   "outputs": [],
   "source": [
    "import bccr"
   ]
  },
  {
   "cell_type": "code",
   "execution_count": null,
   "metadata": {
    "Collapsed": "false"
   },
   "outputs": [],
   "source": [
    "consulta = bccr.ServicioWeb()\n",
    "#consulta.buscar(todos='Producto interno bruto encadenado')"
   ]
  },
  {
   "cell_type": "code",
   "execution_count": null,
   "metadata": {
    "Collapsed": "false"
   },
   "outputs": [],
   "source": [
    "pib = consulta({'33783':'PIB'})\n",
    "pib['lPIB'] = np.log(pib['PIB'])\n",
    "\n",
    "temp = pib.copy()\n",
    "temp.index = pib.index.to_series().astype(str)\n",
    "temp.reset_index().to_stata('pib-costa-rica.dta')\n",
    "del temp"
   ]
  },
  {
   "cell_type": "markdown",
   "metadata": {
    "Collapsed": "false"
   },
   "source": [
    "## Gráfico de la serie"
   ]
  },
  {
   "cell_type": "code",
   "execution_count": null,
   "metadata": {
    "Collapsed": "false"
   },
   "outputs": [],
   "source": [
    "fig, ax = plt.subplots()\n",
    "pib['PIB'].plot(ax=ax, legend=False)\n",
    "ax.set(yscale='log', title='Producto interno bruto de Costa Rica', ylabel='escala logarítmica')\n",
    "fig.savefig('pib-costa-rica-I(1).pdf', bbox_inches='tight')"
   ]
  },
  {
   "cell_type": "markdown",
   "metadata": {
    "Collapsed": "false"
   },
   "source": [
    "## Correlograma del (logaritmo) del PIB y su primer diferencia"
   ]
  },
  {
   "cell_type": "code",
   "execution_count": null,
   "metadata": {
    "Collapsed": "false"
   },
   "outputs": [],
   "source": [
    "fig,axs = plt.subplots(2,1, figsize=[15,8], sharex=True)\n",
    "sm.graphics.tsa.plot_acf(pib['lPIB'],ax=axs[0]);\n",
    "axs[0].set(ylim=[-0.1,1.1], title='$\\log(PIB_t)$')\n",
    "\n",
    "sm.graphics.tsa.plot_acf(pib['lPIB'].diff().dropna(),ax=axs[1]);\n",
    "axs[1].set(ylim=[-0.5,1.1], title='$\\Delta\\log(PIB_t)$')\n",
    "\n",
    "fig.suptitle('Autocorrelación del PIB trimestral de Costa Rica', fontsize=20)\n",
    "fig.savefig('pib-costa-rica-rho.pdf',bbox_inches='tight')"
   ]
  },
  {
   "cell_type": "markdown",
   "metadata": {
    "Collapsed": "false"
   },
   "source": [
    "# Ajustando una tendencia lineal"
   ]
  },
  {
   "cell_type": "markdown",
   "metadata": {
    "Collapsed": "false"
   },
   "source": [
    "## Estimando la tendencia y los residuos"
   ]
  },
  {
   "cell_type": "code",
   "execution_count": null,
   "metadata": {
    "Collapsed": "false"
   },
   "outputs": [],
   "source": [
    "pib['t'] = np.arange(pib.shape[0])\n",
    "\n",
    "pib['tendencia'] = smf.ols('lPIB ~ t', pib).fit().fittedvalues\n",
    "pib['residuos'] = pib['lPIB'] - pib['tendencia']"
   ]
  },
  {
   "cell_type": "code",
   "execution_count": null,
   "metadata": {
    "Collapsed": "false"
   },
   "outputs": [],
   "source": [
    "fig, axs = plt.subplots(2,1, figsize=[15,7], sharex=True)\n",
    "pib[['lPIB','tendencia']].plot(ax=axs[0], legend=False)\n",
    "axs[0].set(title='PIB con tendencia lineal ajustada', ylabel='logaritmos')\n",
    "\n",
    "pib[['residuos']].plot(ax=axs[1], legend=False)\n",
    "axs[1].set(title='Residuos')\n",
    "fig.savefig('pib-tendencia-lineal.pdf', bbox_inches='tight')"
   ]
  },
  {
   "cell_type": "markdown",
   "metadata": {
    "Collapsed": "false"
   },
   "source": [
    "## Correlograma de los residuos"
   ]
  },
  {
   "cell_type": "code",
   "execution_count": null,
   "metadata": {
    "Collapsed": "false"
   },
   "outputs": [],
   "source": [
    "sm.graphics.tsa.plot_acf(pib['residuos']);"
   ]
  },
  {
   "cell_type": "markdown",
   "metadata": {
    "Collapsed": "false"
   },
   "source": [
    "# Pruebas de DickeyFuller"
   ]
  },
  {
   "cell_type": "markdown",
   "metadata": {
    "Collapsed": "false"
   },
   "source": [
    "## Implementando la prueba DF con regresión lineal"
   ]
  },
  {
   "cell_type": "code",
   "execution_count": null,
   "metadata": {
    "Collapsed": "false"
   },
   "outputs": [],
   "source": [
    "dy  = pib['lPIB'].diff()[1:]\n",
    "ly = pib['lPIB'].shift(1)[1:]\n",
    "tt = np.arange(dy.size)\n",
    "\n",
    "X = sm.add_constant(ly)\n",
    "Z = np.c_[X,tt]"
   ]
  },
  {
   "cell_type": "code",
   "execution_count": null,
   "metadata": {
    "Collapsed": "false"
   },
   "outputs": [],
   "source": [
    "tnc = sm.OLS(dy,ly, hasconst=False).fit().tvalues[0]\n",
    "tc = sm.OLS(dy, X, hasconst=True).fit().tvalues[1]\n",
    "tct = sm.OLS(dy, Z, hasconst=True).fit().tvalues[1]"
   ]
  },
  {
   "cell_type": "code",
   "execution_count": null,
   "metadata": {
    "Collapsed": "false"
   },
   "outputs": [],
   "source": [
    "tnc, tc, tct\n"
   ]
  },
  {
   "cell_type": "code",
   "execution_count": null,
   "metadata": {
    "Collapsed": "false",
    "collapsed": false,
    "jupyter": {
     "outputs_hidden": false
    },
    "pycharm": {
     "name": "#%%\n"
    }
   },
   "outputs": [],
   "source": [
    "tbl = sm.OLS(dy, X, hasconst=True).fit().summary().tables[1]\n",
    "\n",
    "with open('df-lpib-regresion.tex','w') as cuadro:\n",
    "    cuadro.write(tbl.as_latex_tabular())\n"
   ]
  },
  {
   "cell_type": "markdown",
   "metadata": {
    "Collapsed": "false"
   },
   "source": [
    "## Implementando el código para hacer las tablas"
   ]
  },
  {
   "cell_type": "code",
   "execution_count": null,
   "metadata": {
    "Collapsed": "false"
   },
   "outputs": [],
   "source": [
    "specs = ['nc', 'c', 'ct']\n",
    "indice = ['sin constante', 'con constante', 'con constante y tendencia']\n",
    "\n",
    "def DF(datos, spec):\n",
    "    res = adfuller(datos, maxlag=0,regression=spec)\n",
    "    resultado = {\n",
    "        'z':res[0], \n",
    "        '1%': res[4]['1%'], \n",
    "        '5%': res[4]['5%'], \n",
    "        '10%': res[4]['10%']}\n",
    "    return resultado\n",
    "\n",
    "def ADF(datos, spec):\n",
    "    res = adfuller(datos, regression=spec, autolag='t-stat')\n",
    "    resultado = {\n",
    "        'z':res[0], \n",
    "        '1%': res[4]['1%'], \n",
    "        '5%': res[4]['5%'], \n",
    "        '10%': res[4]['10%'],\n",
    "        'p': res[2]}\n",
    "    return resultado\n",
    "\n",
    "pruebas = {'df':DF, 'adf':ADF}\n",
    "\n",
    "def tabla_dickey_fuller(serie, test, diff=0):\n",
    "    datos = pib[serie].diff(diff) if diff else pib[serie]\n",
    "    resultados = pd.DataFrame([pruebas[test](datos.dropna(), ss) for ss in specs], index=indice).round(3)\n",
    "    nombre = '_'.join([test,serie,str(diff)])\n",
    "    resultados.to_latex(nombre + '.tex')\n",
    "    return resultados"
   ]
  },
  {
   "cell_type": "markdown",
   "metadata": {
    "Collapsed": "false"
   },
   "source": [
    "## Prueba Dickey-Fuller"
   ]
  },
  {
   "cell_type": "markdown",
   "metadata": {
    "Collapsed": "false"
   },
   "source": [
    "### Serie en nivel"
   ]
  },
  {
   "cell_type": "code",
   "execution_count": null,
   "metadata": {
    "Collapsed": "false"
   },
   "outputs": [],
   "source": [
    "tabla_dickey_fuller('lPIB','df')"
   ]
  },
  {
   "cell_type": "markdown",
   "metadata": {
    "Collapsed": "false"
   },
   "source": [
    "### Serie en primer diferencia"
   ]
  },
  {
   "cell_type": "code",
   "execution_count": null,
   "metadata": {
    "Collapsed": "false"
   },
   "outputs": [],
   "source": [
    "tabla_dickey_fuller('lPIB', 'df', diff=1)"
   ]
  },
  {
   "cell_type": "markdown",
   "metadata": {
    "Collapsed": "false"
   },
   "source": [
    "### Serie de los residuos alrededor de tendencia"
   ]
  },
  {
   "cell_type": "code",
   "execution_count": null,
   "metadata": {
    "Collapsed": "false"
   },
   "outputs": [],
   "source": [
    "tabla_dickey_fuller('residuos', 'df', diff=0)"
   ]
  },
  {
   "cell_type": "markdown",
   "metadata": {
    "Collapsed": "false"
   },
   "source": [
    "## Prueba aumentada de Dickey-Fuller"
   ]
  },
  {
   "cell_type": "markdown",
   "metadata": {
    "Collapsed": "false"
   },
   "source": [
    "### Serie en nivel"
   ]
  },
  {
   "cell_type": "code",
   "execution_count": null,
   "metadata": {
    "Collapsed": "false"
   },
   "outputs": [],
   "source": [
    "tabla_dickey_fuller('lPIB', 'adf', diff=0)"
   ]
  },
  {
   "cell_type": "markdown",
   "metadata": {
    "Collapsed": "false"
   },
   "source": [
    "### Serie en primer diferencia"
   ]
  },
  {
   "cell_type": "code",
   "execution_count": null,
   "metadata": {
    "Collapsed": "false"
   },
   "outputs": [],
   "source": [
    "tabla_dickey_fuller('lPIB', 'adf', diff=1)"
   ]
  },
  {
   "cell_type": "markdown",
   "metadata": {
    "Collapsed": "false"
   },
   "source": [
    "### Serie de los residuos alrededor de tendencia"
   ]
  },
  {
   "cell_type": "code",
   "execution_count": null,
   "metadata": {
    "Collapsed": "false"
   },
   "outputs": [],
   "source": [
    "tabla_dickey_fuller('residuos', 'adf', diff=0)"
   ]
  },
  {
   "cell_type": "markdown",
   "metadata": {
    "Collapsed": "false"
   },
   "source": [
    "# Pruebas KPSS"
   ]
  },
  {
   "cell_type": "code",
   "execution_count": null,
   "metadata": {
    "Collapsed": "false"
   },
   "outputs": [],
   "source": [
    "def KPSS_una_serie(datos, tipo):\n",
    "    return [kpss(datos.dropna(), regression=tipo, lags=k)[0] for k in range(7)]   "
   ]
  },
  {
   "cell_type": "code",
   "execution_count": null,
   "metadata": {
    "Collapsed": "false"
   },
   "outputs": [],
   "source": [
    "critical = pd.DataFrame(\n",
    "    {'c': np.array([0.347, 0.463, 0.574, 0.739]),\n",
    "     'ct':np.array([0.119, 0.146, 0.176, 0.216])},\n",
    "    index=['10%', '5%', '2.5%', '1%'])\n"
   ]
  },
  {
   "cell_type": "code",
   "execution_count": null,
   "metadata": {
    "Collapsed": "false"
   },
   "outputs": [],
   "source": [
    "def tabla_KPSS(diff=0):\n",
    "    datos = pib['lPIB'].diff(diff) if diff else pib['lPIB']\n",
    "    resultados = pd.DataFrame([KPSS_una_serie(datos, ss) for ss in ['c','ct']], index=['c','ct']).round(3)\n",
    "    #nombre = '_'.join([test,serie,str(diff)])\n",
    "    #resultados.to_latex(nombre + '.tex')\n",
    "    return resultados.T"
   ]
  },
  {
   "cell_type": "code",
   "execution_count": null,
   "metadata": {
    "Collapsed": "false"
   },
   "outputs": [],
   "source": [
    "#%%capture\n",
    "tab = pd.concat([tabla_KPSS(diff=r) for r in range(2)], axis=1,keys=['nivel','diferencia'])"
   ]
  },
  {
   "cell_type": "code",
   "execution_count": null,
   "metadata": {
    "Collapsed": "false"
   },
   "outputs": [],
   "source": [
    "tab.to_latex('kpss_lPIB.tex')\n",
    "tab"
   ]
  },
  {
   "cell_type": "code",
   "execution_count": null,
   "metadata": {
    "Collapsed": "false"
   },
   "outputs": [],
   "source": [
    "critical.to_latex('kpss_critical.tex')"
   ]
  }
 ],
 "metadata": {
  "kernelspec": {
   "display_name": "Python 3",
   "language": "python",
   "name": "python3"
  },
  "language_info": {
   "codemirror_mode": {
    "name": "ipython",
    "version": 3
   },
   "file_extension": ".py",
   "mimetype": "text/x-python",
   "name": "python",
   "nbconvert_exporter": "python",
   "pygments_lexer": "ipython3",
   "version": "3.8.5"
  }
 },
 "nbformat": 4,
 "nbformat_minor": 4
}
