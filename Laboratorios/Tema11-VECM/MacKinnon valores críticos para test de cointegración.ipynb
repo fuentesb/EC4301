{
 "cells": [
  {
   "cell_type": "markdown",
   "metadata": {},
   "source": [
    "<img src=\"escuela-de-economia.png\" width=\"260\" height=\"60\">\n",
    "<center>\n",
    "    <b>EC4301 MACROECONOMETRÍA</b><br>\n",
    "    <b>Profesor:  Randall Romero Aguilar, PhD</b>\n",
    "<br><br>\n",
    "<b>Laboratorio:</b>\n",
    "<div style=\"font-size:175%;color:white; background-color: #0064b0;\">Tema 11: Vector de corrección de errores (VEC)</div>\n",
    "<div style=\"font-size:250%;color:white; background-color: #0064b0;\">Valores críticos de MacKinnon para test de cointegración</div> \n",
    "</center>\n",
    "<i>Creado:     2017-May-16 \n",
    "    <br>\n",
    "    Actualizado: 2020-Oct-25</i>"
   ]
  },
  {
   "cell_type": "code",
   "execution_count": 1,
   "metadata": {},
   "outputs": [],
   "source": [
    "import numpy as np\n",
    "import pandas as pd\n",
    "import seaborn as sn\n",
    "\n",
    "pd.set_option('precision',5)\n",
    "%matplotlib inline"
   ]
  },
  {
   "cell_type": "markdown",
   "metadata": {},
   "source": [
    "Las tablas de MacKinnon están almacenadas en un archivo de Excel, el cual importamos con Pandas cuando creamos la clase MacKinnon.  Guardar estas tablas en una clase tiene la ventaja de que así no será necesario leer el archivo de Excel cada vez que se quiera obtener nuevos valores críticos."
   ]
  },
  {
   "cell_type": "code",
   "execution_count": 2,
   "metadata": {},
   "outputs": [],
   "source": [
    "source_file = r\"MacKinnon 2010 Critical values for cointegration tests.xlsx\""
   ]
  },
  {
   "cell_type": "markdown",
   "metadata": {},
   "source": [
    "# Una clase para el test de MacKinnon"
   ]
  },
  {
   "cell_type": "code",
   "execution_count": 3,
   "metadata": {},
   "outputs": [],
   "source": [
    "class MacKinnon:\n",
    "    variants = {'nc': 'No constant term',\n",
    "                'c': 'Constant term',\n",
    "                'ct': 'Constant and linear trend',\n",
    "                'ctt': 'Constant, linear trend and quadratic trend'}\n",
    "\n",
    "    tables = {tt: pd.read_excel(source_file, tt)\n",
    "              for tt in variants.keys()}\n",
    "\n",
    "    def get_matrix(self, variant, N, level=None):\n",
    "        '''\n",
    "        get_matrix(self, variant, N, level=None)\n",
    "        \n",
    "        Retorna la parte relevante de la tabla de MacKinnon para una prueba\n",
    "        de cointegración de N series, con la variante especificada ('nc', 'c', \n",
    "        'ct', o 'ctt'). \n",
    "        \n",
    "        Opcionalmente, si además se especifica el nivel de la prueba ('1%', '5%' \n",
    "        o '10%'), se retorna un vector con los betas requeridos.\n",
    "        \n",
    "        En ambos casos, los betas están ordenados de mayor orden a menor; esto \n",
    "        facilita la evaluación posterior del polinomio usando np.polyval\n",
    "        '''\n",
    "        \n",
    "        dd = self.tables[variant]\n",
    "        temp = dd[dd.N == N][['Level', 'beta3', 'beta2', 'beta1', 'beta_inf']]\n",
    "        temp.set_index('Level', drop=True, inplace=True)\n",
    "        \n",
    "        return temp.loc[level] if level else temp\n",
    "\n",
    "    def __call__(self, variant, N, T, level=None):\n",
    "        '''\n",
    "        Retorna los valores críticos de MacKinnon para una prueba de cointegración\n",
    "        de N series, con la variante especificada ('nc', 'c', 'ct', o 'ctt'). \n",
    "        \n",
    "        Opcionalmente, si además se especifica el nivel de la prueba ('1%', '5%' \n",
    "        o '10%'), se retorna unícamente el escalar requerido.\n",
    "        '''\n",
    "        beta = self.get_matrix(variant, N, level)\n",
    "        if level:\n",
    "            return np.polyval(beta, 1/T)\n",
    "        else:\n",
    "            values = [np.polyval(k, 1/T) for k in beta.values]\n",
    "            return pd.Series(values, index=beta.index)"
   ]
  },
  {
   "cell_type": "code",
   "execution_count": 4,
   "metadata": {},
   "outputs": [],
   "source": [
    "mk = MacKinnon()"
   ]
  },
  {
   "cell_type": "markdown",
   "metadata": {},
   "source": [
    "El valor crítico al 5% para determinar si 5 series están cointegradas, basados en 100 observaciones, incluyendo intercepto y tendencia lineal"
   ]
  },
  {
   "cell_type": "code",
   "execution_count": 5,
   "metadata": {},
   "outputs": [
    {
     "data": {
      "text/plain": [
       "-4.8911136410000005"
      ]
     },
     "execution_count": 5,
     "metadata": {},
     "output_type": "execute_result"
    }
   ],
   "source": [
    "mk('ct', N=5, T=100, level='5%')"
   ]
  },
  {
   "cell_type": "markdown",
   "metadata": {},
   "source": [
    "Si no especificamos el nivel de significancia, la función muestra los valores usuales de 1%, 5% y 10%"
   ]
  },
  {
   "cell_type": "code",
   "execution_count": 6,
   "metadata": {},
   "outputs": [
    {
     "data": {
      "text/plain": [
       "Level\n",
       "1%    -5.52086\n",
       "5%    -4.89111\n",
       "10%   -4.57125\n",
       "dtype: float64"
      ]
     },
     "execution_count": 6,
     "metadata": {},
     "output_type": "execute_result"
    }
   ],
   "source": [
    "mk('ct', N=5, T=100)"
   ]
  },
  {
   "cell_type": "markdown",
   "metadata": {},
   "source": [
    "Para obtener los coeficientes del polinomio de approximación, usamos **get_matrix**"
   ]
  },
  {
   "cell_type": "code",
   "execution_count": 7,
   "metadata": {
    "scrolled": true
   },
   "outputs": [
    {
     "data": {
      "text/html": [
       "<div>\n",
       "<style scoped>\n",
       "    .dataframe tbody tr th:only-of-type {\n",
       "        vertical-align: middle;\n",
       "    }\n",
       "\n",
       "    .dataframe tbody tr th {\n",
       "        vertical-align: top;\n",
       "    }\n",
       "\n",
       "    .dataframe thead th {\n",
       "        text-align: right;\n",
       "    }\n",
       "</style>\n",
       "<table border=\"1\" class=\"dataframe\">\n",
       "  <thead>\n",
       "    <tr style=\"text-align: right;\">\n",
       "      <th></th>\n",
       "      <th>beta3</th>\n",
       "      <th>beta2</th>\n",
       "      <th>beta1</th>\n",
       "      <th>beta_inf</th>\n",
       "    </tr>\n",
       "    <tr>\n",
       "      <th>Level</th>\n",
       "      <th></th>\n",
       "      <th></th>\n",
       "      <th></th>\n",
       "      <th></th>\n",
       "    </tr>\n",
       "  </thead>\n",
       "  <tbody>\n",
       "    <tr>\n",
       "      <th>1%</th>\n",
       "      <td>50.646</td>\n",
       "      <td>-59.631</td>\n",
       "      <td>-26.2183</td>\n",
       "      <td>-5.25276</td>\n",
       "    </tr>\n",
       "    <tr>\n",
       "      <th>5%</th>\n",
       "      <td>91.359</td>\n",
       "      <td>-22.660</td>\n",
       "      <td>-17.3569</td>\n",
       "      <td>-4.71537</td>\n",
       "    </tr>\n",
       "    <tr>\n",
       "      <th>10%</th>\n",
       "      <td>76.781</td>\n",
       "      <td>-10.238</td>\n",
       "      <td>-13.6078</td>\n",
       "      <td>-4.43422</td>\n",
       "    </tr>\n",
       "  </tbody>\n",
       "</table>\n",
       "</div>"
      ],
      "text/plain": [
       "        beta3   beta2    beta1  beta_inf\n",
       "Level                                   \n",
       "1%     50.646 -59.631 -26.2183  -5.25276\n",
       "5%     91.359 -22.660 -17.3569  -4.71537\n",
       "10%    76.781 -10.238 -13.6078  -4.43422"
      ]
     },
     "execution_count": 7,
     "metadata": {},
     "output_type": "execute_result"
    }
   ],
   "source": [
    "mk.get_matrix('ct', N=5)"
   ]
  },
  {
   "cell_type": "code",
   "execution_count": 8,
   "metadata": {},
   "outputs": [
    {
     "data": {
      "text/plain": [
       "beta3       91.35900\n",
       "beta2      -22.66000\n",
       "beta1      -17.35690\n",
       "beta_inf    -4.71537\n",
       "Name: 5%, dtype: float64"
      ]
     },
     "execution_count": 8,
     "metadata": {},
     "output_type": "execute_result"
    }
   ],
   "source": [
    "mk.get_matrix('ct', N=5, level='5%')"
   ]
  },
  {
   "cell_type": "markdown",
   "metadata": {},
   "source": [
    "Evaluamos otra vez el valor crítico al 5% para determinar si 5 series están cointegradas, basados en 100 observaciones, incluyendo intercepto y tendencia lineal, esta vez evaluando el polinomio a partir de los coeficientes"
   ]
  },
  {
   "cell_type": "code",
   "execution_count": 9,
   "metadata": {},
   "outputs": [
    {
     "data": {
      "text/plain": [
       "-4.891113641"
      ]
     },
     "execution_count": 9,
     "metadata": {},
     "output_type": "execute_result"
    }
   ],
   "source": [
    "b3,b2,b1,b0 = mk.get_matrix('ct', N=5, level='5%')\n",
    "T = 100\n",
    "b0 + b1 / T + b2 / T**2 + b3 / T**3"
   ]
  },
  {
   "cell_type": "markdown",
   "metadata": {},
   "source": [
    "Igual que en el caso anterior, pero usando la función **polyval** de numpy para evaluar el polinomio"
   ]
  },
  {
   "cell_type": "code",
   "execution_count": 10,
   "metadata": {},
   "outputs": [
    {
     "data": {
      "text/plain": [
       "-4.8911136410000005"
      ]
     },
     "execution_count": 10,
     "metadata": {},
     "output_type": "execute_result"
    }
   ],
   "source": [
    "tb = mk.get_matrix('ct', N=5, level='5%')\n",
    "np.polyval(tb, 1/T)"
   ]
  },
  {
   "cell_type": "markdown",
   "metadata": {},
   "source": [
    "## Valores críticos versus tamaño de muestra\n",
    "Para muestras pequeñas, los valores críticos son mayores (en valor absoluto)"
   ]
  },
  {
   "cell_type": "code",
   "execution_count": 11,
   "metadata": {},
   "outputs": [
    {
     "data": {
      "text/plain": [
       "<matplotlib.axes._subplots.AxesSubplot at 0x23fa0aa3f70>"
      ]
     },
     "execution_count": 11,
     "metadata": {},
     "output_type": "execute_result"
    },
    {
     "data": {
      "image/png": "[encoded data removed]",
      "text/plain": [
       "<Figure size 432x288 with 1 Axes>"
      ]
     },
     "metadata": {
      "needs_background": "light"
     },
     "output_type": "display_data"
    }
   ],
   "source": [
    "sample_sizes = np.arange(10, 201)\n",
    "vT = pd.DataFrame([MacKinnon()('c',5,T) for T in sample_sizes], \n",
    "                 index=sample_sizes)\n",
    "vT.plot()\n"
   ]
  },
  {
   "cell_type": "markdown",
   "metadata": {},
   "source": [
    "## Valores críticos versus número de series\n",
    "Entre más series hayan en el vector de cointegración, los valores críticos son mayores (en valor absoluto)"
   ]
  },
  {
   "cell_type": "code",
   "execution_count": 12,
   "metadata": {},
   "outputs": [
    {
     "data": {
      "text/plain": [
       "<matplotlib.axes._subplots.AxesSubplot at 0x23fa0c1da30>"
      ]
     },
     "execution_count": 12,
     "metadata": {},
     "output_type": "execute_result"
    },
    {
     "data": {
      "image/png": "[encoded data removed]",
      "text/plain": [
       "<Figure size 432x288 with 1 Axes>"
      ]
     },
     "metadata": {
      "needs_background": "light"
     },
     "output_type": "display_data"
    }
   ],
   "source": [
    "number_of_series = np.arange(1, 13)\n",
    "vN = pd.DataFrame([MacKinnon()('c',N,48) for N in number_of_series], \n",
    "                 index=number_of_series)\n",
    "vN.plot()"
   ]
  },
  {
   "cell_type": "markdown",
   "metadata": {},
   "source": [
    "## Valores críticos versus tendencias determinísticas\n",
    "Entre más elementos haya en la tendencia determinística, mayores serán los valores críticos (en valor absoluto)"
   ]
  },
  {
   "cell_type": "code",
   "execution_count": 13,
   "metadata": {},
   "outputs": [
    {
     "data": {
      "text/plain": [
       "<matplotlib.axes._subplots.AxesSubplot at 0x23fa0c79a60>"
      ]
     },
     "execution_count": 13,
     "metadata": {},
     "output_type": "execute_result"
    },
    {
     "data": {
      "image/png": "[encoded data removed]",
      "text/plain": [
       "<Figure size 432x288 with 1 Axes>"
      ]
     },
     "metadata": {
      "needs_background": "light"
     },
     "output_type": "display_data"
    }
   ],
   "source": [
    "variants = ['c','ct', 'ctt']\n",
    "vV = pd.DataFrame([MacKinnon()(v,5,48) for v in variants], \n",
    "                 index=variants)\n",
    "vV.T.plot(kind='bar')"
   ]
  }
 ],
 "metadata": {
  "kernelspec": {
   "display_name": "Python 3",
   "language": "python",
   "name": "python3"
  },
  "language_info": {
   "codemirror_mode": {
    "name": "ipython",
    "version": 3
   },
   "file_extension": ".py",
   "mimetype": "text/x-python",
   "name": "python",
   "nbconvert_exporter": "python",
   "pygments_lexer": "ipython3",
   "version": "3.8.3"
  }
 },
 "nbformat": 4,
 "nbformat_minor": 4
}
