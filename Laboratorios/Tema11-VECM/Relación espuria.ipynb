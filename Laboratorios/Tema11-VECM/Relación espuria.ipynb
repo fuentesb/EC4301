{
 "cells": [
  {
   "cell_type": "markdown",
   "metadata": {},
   "source": [
    "<img src=\"escuela-de-economia.png\" width=\"260\" height=\"60\">\n",
    "<center>\n",
    "    <b>EC4301 MACROECONOMETRÍA</b><br>\n",
    "    <b>Profesor:  Randall Romero Aguilar, PhD</b>\n",
    "<br><br>\n",
    "<b>Laboratorio:</b>\n",
    "<div style=\"font-size:175%;color:white; background-color: #0064b0;\">Tema 11: Vector de corrección de errores (VEC)</div>\n",
    "<div style=\"font-size:250%;color:white; background-color: #0064b0;\">Regresión espuria</div> \n",
    "</center>\n",
    "<i>Creado:     2017-May-16 \n",
    "    <br>\n",
    "    Actualizado: 2020-Oct-25</i>"
   ]
  },
  {
   "cell_type": "markdown",
   "metadata": {
    "Collapsed": "false"
   },
   "source": [
    "Estos apuntes tienen por objetivo ilustrar el problema que surge de estimar modelos de regresión lineal con series de tiempo no estacionarias (regresión espuria).\n",
    "\n",
    "En primer lugar, se estima una regresión en la que el PIB per capita de Costa Rica depende del de Malta (a priori, no esperaríamos que el PIB per capita de Malta tenga impacto en el de Costa Rica).  Más adelante, realizamos experimentos de Monte Carlo para analizar las consecuencias de estimar regresiones con datos no estacionarios."
   ]
  },
  {
   "cell_type": "markdown",
   "metadata": {
    "Collapsed": "false"
   },
   "source": [
    "# Preparación"
   ]
  },
  {
   "cell_type": "code",
   "execution_count": 1,
   "metadata": {
    "Collapsed": "false"
   },
   "outputs": [],
   "source": [
    "import numpy as np\n",
    "import matplotlib.pyplot as plt\n",
    "import pandas as pd\n",
    "from statsmodels.tsa.api import VAR\n",
    "from statsmodels.api import OLS\n",
    "from statsmodels.formula.api import ols\n",
    "from mackinnon import MacKinnon  # este modulo es un archivo en esta carpeta\n",
    "\n",
    "pd.set_option('display.float_format',lambda x: '%.2f' % x)\n",
    "plt.style.use('seaborn')\n",
    "\n",
    "%matplotlib inline"
   ]
  },
  {
   "cell_type": "markdown",
   "metadata": {
    "Collapsed": "false"
   },
   "source": [
    "La función AEG acá definida realizará la prueba (aún no Aumentada) de Engle y Granger a partir de los residuos de una regresión"
   ]
  },
  {
   "cell_type": "code",
   "execution_count": 2,
   "metadata": {
    "Collapsed": "false"
   },
   "outputs": [],
   "source": [
    "mk = MacKinnon()\n",
    "\n",
    "def AEG(residuals, N, summary=True):\n",
    "    '''Prueba de cointegración de Engle y Granger'''\n",
    "    aux = OLS(residuals.diff(), residuals.shift(1), missing='drop').fit()\n",
    "    t = aux.tvalues[0]\n",
    "    nobs = aux.nobs\n",
    "    \n",
    "    crit = mk('c', N, T=nobs)\n",
    "    \n",
    "    if summary:\n",
    "        print('Prueba de cointegración de Engle y Granger')\n",
    "        print('ADF stat = %.3f\\nCritical values:' % t)\n",
    "        for k, v in crit.items():\n",
    "            print('\\t%5s: %.3f' % (k,v))\n",
    "        if t < crit['1%']:\n",
    "            print('Series están cointegradas (al 1% significancia)')\n",
    "        elif t < crit['5%']:\n",
    "            print('Series están cointegradas (al 5% significancia)')\n",
    "        elif t < crit['10%']:\n",
    "            print('Series están cointegradas (al 10% significancia)')\n",
    "        else:\n",
    "            print('Series no están cointegradas')\n",
    "    return t\n",
    "       "
   ]
  },
  {
   "cell_type": "markdown",
   "metadata": {
    "Collapsed": "false"
   },
   "source": [
    "# Regresión con datos de Costa Rica y de Malta\n",
    "\n",
    "Los datos los obtenemos directamente del Banco Mundial, usando el paquete `wbdata`. Las líneas importantes son:\n",
    "\n",
    "    import wbdata\n",
    "    df = wbdata.get_dataframe(indicators, country=countries, convert_date=False)\n",
    "\n",
    "El resto del código da la opción de abrir datos previamente guardados en el directorio."
   ]
  },
  {
   "cell_type": "code",
   "execution_count": 3,
   "metadata": {
    "Collapsed": "false"
   },
   "outputs": [
    {
     "name": "stdout",
     "output_type": "stream",
     "text": [
      "Reading data from datos-CRI-MLT.pickle.\n"
     ]
    }
   ],
   "source": [
    "data_file_name = 'datos-CRI-MLT.pickle'\n",
    "update_data = False\n",
    "\n",
    "if update_data:\n",
    "    try:\n",
    "        import wbdata\n",
    "        countries = [\"MLT\", \"CRI\"]\n",
    "        indicators = {'NY.GDP.PCAP.KD':'GDP per capita (constant 2010 US$)'}\n",
    "        df = wbdata.get_dataframe(indicators, country=countries, convert_date=False)\n",
    "        data = df.unstack(level=0)['GDP per capita (constant 2010 US$)']\n",
    "        data.rename(columns={'Costa Rica':'CRI', 'Malta':'MLT'}, inplace=True)\n",
    "        data.to_pickle(data_file_name)\n",
    "        print('Downloaded data from World DataBank\\nData saved to %s.' % data_file_name)\n",
    "    except:\n",
    "        data = pd.read_pickle(data_file_name)\n",
    "        print('Could not download data from World DataBank\\nData read from %s.' % data_file_name)\n",
    "else:\n",
    "    data = pd.read_pickle(data_file_name)\n",
    "    print('Reading data from %s.' % data_file_name)"
   ]
  },
  {
   "cell_type": "markdown",
   "metadata": {
    "Collapsed": "false"
   },
   "source": [
    "Cargados los datos, los graficamos y mostramos las últimas 8 observaciones en una tabla."
   ]
  },
  {
   "cell_type": "code",
   "execution_count": 4,
   "metadata": {
    "Collapsed": "false"
   },
   "outputs": [
    {
     "data": {
      "text/html": [
       "<div>\n",
       "<style scoped>\n",
       "    .dataframe tbody tr th:only-of-type {\n",
       "        vertical-align: middle;\n",
       "    }\n",
       "\n",
       "    .dataframe tbody tr th {\n",
       "        vertical-align: top;\n",
       "    }\n",
       "\n",
       "    .dataframe thead th {\n",
       "        text-align: right;\n",
       "    }\n",
       "</style>\n",
       "<table border=\"1\" class=\"dataframe\">\n",
       "  <thead>\n",
       "    <tr style=\"text-align: right;\">\n",
       "      <th>country</th>\n",
       "      <th>CRI</th>\n",
       "      <th>MLT</th>\n",
       "    </tr>\n",
       "    <tr>\n",
       "      <th>date</th>\n",
       "      <th></th>\n",
       "      <th></th>\n",
       "    </tr>\n",
       "  </thead>\n",
       "  <tbody>\n",
       "    <tr>\n",
       "      <th>2012</th>\n",
       "      <td>8689.97</td>\n",
       "      <td>21691.26</td>\n",
       "    </tr>\n",
       "    <tr>\n",
       "      <th>2013</th>\n",
       "      <td>8785.74</td>\n",
       "      <td>22375.04</td>\n",
       "    </tr>\n",
       "    <tr>\n",
       "      <th>2014</th>\n",
       "      <td>8993.53</td>\n",
       "      <td>23842.23</td>\n",
       "    </tr>\n",
       "    <tr>\n",
       "      <th>2015</th>\n",
       "      <td>9219.39</td>\n",
       "      <td>25798.47</td>\n",
       "    </tr>\n",
       "    <tr>\n",
       "      <th>2016</th>\n",
       "      <td>9509.74</td>\n",
       "      <td>26645.86</td>\n",
       "    </tr>\n",
       "    <tr>\n",
       "      <th>2017</th>\n",
       "      <td>9732.27</td>\n",
       "      <td>27669.37</td>\n",
       "    </tr>\n",
       "    <tr>\n",
       "      <th>2018</th>\n",
       "      <td>9889.74</td>\n",
       "      <td>28594.30</td>\n",
       "    </tr>\n",
       "    <tr>\n",
       "      <th>2019</th>\n",
       "      <td>nan</td>\n",
       "      <td>nan</td>\n",
       "    </tr>\n",
       "  </tbody>\n",
       "</table>\n",
       "</div>"
      ],
      "text/plain": [
       "country     CRI      MLT\n",
       "date                    \n",
       "2012    8689.97 21691.26\n",
       "2013    8785.74 22375.04\n",
       "2014    8993.53 23842.23\n",
       "2015    9219.39 25798.47\n",
       "2016    9509.74 26645.86\n",
       "2017    9732.27 27669.37\n",
       "2018    9889.74 28594.30\n",
       "2019        nan      nan"
      ]
     },
     "execution_count": 4,
     "metadata": {},
     "output_type": "execute_result"
    },
    {
     "data": {
      "image/png": "[encoded data removed]",
      "text/plain": [
       "<Figure size 432x288 with 1 Axes>"
      ]
     },
     "metadata": {
      "needs_background": "light"
     },
     "output_type": "display_data"
    }
   ],
   "source": [
    "data.plot()\n",
    "data.tail(8)"
   ]
  },
  {
   "cell_type": "markdown",
   "metadata": {
    "Collapsed": "false"
   },
   "source": [
    "Los datos originales están en niveles. Para la regresión\n",
    "$$ \\log(CRI) = c + \\log(MLT) + \\epsilon $$ \n",
    "\n",
    "se necesita calcular el logaritmo de cada serie. Acá simplemente hacemos una base nueva `ldata` a partir de la original."
   ]
  },
  {
   "cell_type": "code",
   "execution_count": 5,
   "metadata": {
    "Collapsed": "false"
   },
   "outputs": [],
   "source": [
    "ldata = np.log(data)"
   ]
  },
  {
   "cell_type": "markdown",
   "metadata": {
    "Collapsed": "false"
   },
   "source": [
    "Ahora sí, estimamos la regresión con el función `ols`. Nótese que según los resultados, un aumento de un punto porcentual en el PIB de Malta está asociado con una disminución de 0.4494 pp en Costa Rica; el resultado es estadísticamente significativo. "
   ]
  },
  {
   "cell_type": "code",
   "execution_count": 6,
   "metadata": {
    "Collapsed": "false"
   },
   "outputs": [
    {
     "data": {
      "text/html": [
       "<table class=\"simpletable\">\n",
       "<caption>OLS Regression Results</caption>\n",
       "<tr>\n",
       "  <th>Dep. Variable:</th>           <td>CRI</td>       <th>  R-squared:         </th> <td>   0.806</td>\n",
       "</tr>\n",
       "<tr>\n",
       "  <th>Model:</th>                   <td>OLS</td>       <th>  Adj. R-squared:    </th> <td>   0.802</td>\n",
       "</tr>\n",
       "<tr>\n",
       "  <th>Method:</th>             <td>Least Squares</td>  <th>  F-statistic:       </th> <td>   195.0</td>\n",
       "</tr>\n",
       "<tr>\n",
       "  <th>Date:</th>             <td>Sun, 25 Oct 2020</td> <th>  Prob (F-statistic):</th> <td>2.40e-18</td>\n",
       "</tr>\n",
       "<tr>\n",
       "  <th>Time:</th>                 <td>19:19:56</td>     <th>  Log-Likelihood:    </th> <td>  34.197</td>\n",
       "</tr>\n",
       "<tr>\n",
       "  <th>No. Observations:</th>      <td>    49</td>      <th>  AIC:               </th> <td>  -64.39</td>\n",
       "</tr>\n",
       "<tr>\n",
       "  <th>Df Residuals:</th>          <td>    47</td>      <th>  BIC:               </th> <td>  -60.61</td>\n",
       "</tr>\n",
       "<tr>\n",
       "  <th>Df Model:</th>              <td>     1</td>      <th>                     </th>     <td> </td>   \n",
       "</tr>\n",
       "<tr>\n",
       "  <th>Covariance Type:</th>      <td>nonrobust</td>    <th>                     </th>     <td> </td>   \n",
       "</tr>\n",
       "</table>\n",
       "<table class=\"simpletable\">\n",
       "<tr>\n",
       "      <td></td>         <th>coef</th>     <th>std err</th>      <th>t</th>      <th>P>|t|</th>  <th>[0.025</th>    <th>0.975]</th>  \n",
       "</tr>\n",
       "<tr>\n",
       "  <th>Intercept</th> <td>    4.4814</td> <td>    0.300</td> <td>   14.916</td> <td> 0.000</td> <td>    3.877</td> <td>    5.086</td>\n",
       "</tr>\n",
       "<tr>\n",
       "  <th>MLT</th>       <td>    0.4432</td> <td>    0.032</td> <td>   13.966</td> <td> 0.000</td> <td>    0.379</td> <td>    0.507</td>\n",
       "</tr>\n",
       "</table>\n",
       "<table class=\"simpletable\">\n",
       "<tr>\n",
       "  <th>Omnibus:</th>       <td>57.494</td> <th>  Durbin-Watson:     </th> <td>   0.064</td>\n",
       "</tr>\n",
       "<tr>\n",
       "  <th>Prob(Omnibus):</th> <td> 0.000</td> <th>  Jarque-Bera (JB):  </th> <td>   5.218</td>\n",
       "</tr>\n",
       "<tr>\n",
       "  <th>Skew:</th>          <td> 0.156</td> <th>  Prob(JB):          </th> <td>  0.0736</td>\n",
       "</tr>\n",
       "<tr>\n",
       "  <th>Kurtosis:</th>      <td> 1.432</td> <th>  Cond. No.          </th> <td>    164.</td>\n",
       "</tr>\n",
       "</table><br/><br/>Warnings:<br/>[1] Standard Errors assume that the covariance matrix of the errors is correctly specified."
      ],
      "text/plain": [
       "<class 'statsmodels.iolib.summary.Summary'>\n",
       "\"\"\"\n",
       "                            OLS Regression Results                            \n",
       "==============================================================================\n",
       "Dep. Variable:                    CRI   R-squared:                       0.806\n",
       "Model:                            OLS   Adj. R-squared:                  0.802\n",
       "Method:                 Least Squares   F-statistic:                     195.0\n",
       "Date:                Sun, 25 Oct 2020   Prob (F-statistic):           2.40e-18\n",
       "Time:                        19:19:56   Log-Likelihood:                 34.197\n",
       "No. Observations:                  49   AIC:                            -64.39\n",
       "Df Residuals:                      47   BIC:                            -60.61\n",
       "Df Model:                           1                                         \n",
       "Covariance Type:            nonrobust                                         \n",
       "==============================================================================\n",
       "                 coef    std err          t      P>|t|      [0.025      0.975]\n",
       "------------------------------------------------------------------------------\n",
       "Intercept      4.4814      0.300     14.916      0.000       3.877       5.086\n",
       "MLT            0.4432      0.032     13.966      0.000       0.379       0.507\n",
       "==============================================================================\n",
       "Omnibus:                       57.494   Durbin-Watson:                   0.064\n",
       "Prob(Omnibus):                  0.000   Jarque-Bera (JB):                5.218\n",
       "Skew:                           0.156   Prob(JB):                       0.0736\n",
       "Kurtosis:                       1.432   Cond. No.                         164.\n",
       "==============================================================================\n",
       "\n",
       "Warnings:\n",
       "[1] Standard Errors assume that the covariance matrix of the errors is correctly specified.\n",
       "\"\"\""
      ]
     },
     "execution_count": 6,
     "metadata": {},
     "output_type": "execute_result"
    }
   ],
   "source": [
    "model = ols('CRI ~ MLT',ldata)\n",
    "resultados = model.fit()\n",
    "resultados.summary()"
   ]
  },
  {
   "cell_type": "code",
   "execution_count": 7,
   "metadata": {
    "Collapsed": "false"
   },
   "outputs": [
    {
     "name": "stdout",
     "output_type": "stream",
     "text": [
      "                            OLS Regression Results                            \n",
      "==============================================================================\n",
      "Dep. Variable:                    CRI   R-squared:                       0.806\n",
      "Model:                            OLS   Adj. R-squared:                  0.802\n",
      "Method:                 Least Squares   F-statistic:                     195.0\n",
      "Date:                Sun, 25 Oct 2020   Prob (F-statistic):           2.40e-18\n",
      "Time:                        19:19:56   Log-Likelihood:                 34.197\n",
      "No. Observations:                  49   AIC:                            -64.39\n",
      "Df Residuals:                      47   BIC:                            -60.61\n",
      "Df Model:                           1                                         \n",
      "Covariance Type:            nonrobust                                         \n",
      "==============================================================================\n",
      "                 coef    std err          t      P>|t|      [0.025      0.975]\n",
      "------------------------------------------------------------------------------\n",
      "Intercept      4.4814      0.300     14.916      0.000       3.877       5.086\n",
      "MLT            0.4432      0.032     13.966      0.000       0.379       0.507\n",
      "==============================================================================\n",
      "Omnibus:                       57.494   Durbin-Watson:                   0.064\n",
      "Prob(Omnibus):                  0.000   Jarque-Bera (JB):                5.218\n",
      "Skew:                           0.156   Prob(JB):                       0.0736\n",
      "Kurtosis:                       1.432   Cond. No.                         164.\n",
      "==============================================================================\n",
      "\n",
      "Warnings:\n",
      "[1] Standard Errors assume that the covariance matrix of the errors is correctly specified.\n"
     ]
    }
   ],
   "source": [
    "print(resultados.summary())"
   ]
  },
  {
   "cell_type": "markdown",
   "metadata": {
    "Collapsed": "false"
   },
   "source": [
    "Ahora bien, observe que los residuos no parecen ser ruido blanco."
   ]
  },
  {
   "cell_type": "code",
   "execution_count": 8,
   "metadata": {
    "Collapsed": "false"
   },
   "outputs": [
    {
     "data": {
      "text/plain": [
       "<matplotlib.axes._subplots.AxesSubplot at 0x232871929a0>"
      ]
     },
     "execution_count": 8,
     "metadata": {},
     "output_type": "execute_result"
    },
    {
     "data": {
      "image/png": "[encoded data removed]",
      "text/plain": [
       "<Figure size 432x288 with 1 Axes>"
      ]
     },
     "metadata": {
      "needs_background": "light"
     },
     "output_type": "display_data"
    }
   ],
   "source": [
    "resultados.resid.plot()"
   ]
  },
  {
   "cell_type": "markdown",
   "metadata": {
    "Collapsed": "false"
   },
   "source": [
    "Esto lo podemos confirmar con la prueba de Dickey y Fuller. Dado que al parecer los residuos tienen raíz unitaria, podemos inferir que el PIB de Costa Rica **no está cointegrado** con el de Malta."
   ]
  },
  {
   "cell_type": "code",
   "execution_count": 9,
   "metadata": {
    "Collapsed": "false",
    "scrolled": true
   },
   "outputs": [
    {
     "name": "stdout",
     "output_type": "stream",
     "text": [
      "Prueba de cointegración de Engle y Granger\n",
      "ADF stat = -0.532\n",
      "Critical values:\n",
      "\t   1%: -4.134\n",
      "\t   5%: -3.466\n",
      "\t  10%: -3.134\n",
      "Series no están cointegradas\n"
     ]
    }
   ],
   "source": [
    "t=AEG(resultados.resid, 2)"
   ]
  },
  {
   "cell_type": "markdown",
   "metadata": {
    "Collapsed": "false"
   },
   "source": [
    "Ahora bien, nótese que el problema de regresión espuria (casi) desaparece una vez corremos la regresión con series estacionarias (en este caso, el crecimiento en cada país)."
   ]
  },
  {
   "cell_type": "code",
   "execution_count": 10,
   "metadata": {
    "Collapsed": "false"
   },
   "outputs": [
    {
     "data": {
      "text/html": [
       "<table class=\"simpletable\">\n",
       "<caption>OLS Regression Results</caption>\n",
       "<tr>\n",
       "  <th>Dep. Variable:</th>           <td>CRI</td>       <th>  R-squared:         </th> <td>   0.032</td>\n",
       "</tr>\n",
       "<tr>\n",
       "  <th>Model:</th>                   <td>OLS</td>       <th>  Adj. R-squared:    </th> <td>   0.011</td>\n",
       "</tr>\n",
       "<tr>\n",
       "  <th>Method:</th>             <td>Least Squares</td>  <th>  F-statistic:       </th> <td>   1.537</td>\n",
       "</tr>\n",
       "<tr>\n",
       "  <th>Date:</th>             <td>Sun, 25 Oct 2020</td> <th>  Prob (F-statistic):</th>  <td> 0.221</td> \n",
       "</tr>\n",
       "<tr>\n",
       "  <th>Time:</th>                 <td>19:19:56</td>     <th>  Log-Likelihood:    </th> <td>  102.51</td>\n",
       "</tr>\n",
       "<tr>\n",
       "  <th>No. Observations:</th>      <td>    48</td>      <th>  AIC:               </th> <td>  -201.0</td>\n",
       "</tr>\n",
       "<tr>\n",
       "  <th>Df Residuals:</th>          <td>    46</td>      <th>  BIC:               </th> <td>  -197.3</td>\n",
       "</tr>\n",
       "<tr>\n",
       "  <th>Df Model:</th>              <td>     1</td>      <th>                     </th>     <td> </td>   \n",
       "</tr>\n",
       "<tr>\n",
       "  <th>Covariance Type:</th>      <td>nonrobust</td>    <th>                     </th>     <td> </td>   \n",
       "</tr>\n",
       "</table>\n",
       "<table class=\"simpletable\">\n",
       "<tr>\n",
       "      <td></td>         <th>coef</th>     <th>std err</th>      <th>t</th>      <th>P>|t|</th>  <th>[0.025</th>    <th>0.975]</th>  \n",
       "</tr>\n",
       "<tr>\n",
       "  <th>Intercept</th> <td>    0.0143</td> <td>    0.006</td> <td>    2.269</td> <td> 0.028</td> <td>    0.002</td> <td>    0.027</td>\n",
       "</tr>\n",
       "<tr>\n",
       "  <th>MLT</th>       <td>    0.1378</td> <td>    0.111</td> <td>    1.240</td> <td> 0.221</td> <td>   -0.086</td> <td>    0.362</td>\n",
       "</tr>\n",
       "</table>\n",
       "<table class=\"simpletable\">\n",
       "<tr>\n",
       "  <th>Omnibus:</th>       <td>27.205</td> <th>  Durbin-Watson:     </th> <td>   1.244</td>\n",
       "</tr>\n",
       "<tr>\n",
       "  <th>Prob(Omnibus):</th> <td> 0.000</td> <th>  Jarque-Bera (JB):  </th> <td>  58.241</td>\n",
       "</tr>\n",
       "<tr>\n",
       "  <th>Skew:</th>          <td>-1.586</td> <th>  Prob(JB):          </th> <td>2.26e-13</td>\n",
       "</tr>\n",
       "<tr>\n",
       "  <th>Kurtosis:</th>      <td> 7.365</td> <th>  Cond. No.          </th> <td>    26.4</td>\n",
       "</tr>\n",
       "</table><br/><br/>Warnings:<br/>[1] Standard Errors assume that the covariance matrix of the errors is correctly specified."
      ],
      "text/plain": [
       "<class 'statsmodels.iolib.summary.Summary'>\n",
       "\"\"\"\n",
       "                            OLS Regression Results                            \n",
       "==============================================================================\n",
       "Dep. Variable:                    CRI   R-squared:                       0.032\n",
       "Model:                            OLS   Adj. R-squared:                  0.011\n",
       "Method:                 Least Squares   F-statistic:                     1.537\n",
       "Date:                Sun, 25 Oct 2020   Prob (F-statistic):              0.221\n",
       "Time:                        19:19:56   Log-Likelihood:                 102.51\n",
       "No. Observations:                  48   AIC:                            -201.0\n",
       "Df Residuals:                      46   BIC:                            -197.3\n",
       "Df Model:                           1                                         \n",
       "Covariance Type:            nonrobust                                         \n",
       "==============================================================================\n",
       "                 coef    std err          t      P>|t|      [0.025      0.975]\n",
       "------------------------------------------------------------------------------\n",
       "Intercept      0.0143      0.006      2.269      0.028       0.002       0.027\n",
       "MLT            0.1378      0.111      1.240      0.221      -0.086       0.362\n",
       "==============================================================================\n",
       "Omnibus:                       27.205   Durbin-Watson:                   1.244\n",
       "Prob(Omnibus):                  0.000   Jarque-Bera (JB):               58.241\n",
       "Skew:                          -1.586   Prob(JB):                     2.26e-13\n",
       "Kurtosis:                       7.365   Cond. No.                         26.4\n",
       "==============================================================================\n",
       "\n",
       "Warnings:\n",
       "[1] Standard Errors assume that the covariance matrix of the errors is correctly specified.\n",
       "\"\"\""
      ]
     },
     "execution_count": 10,
     "metadata": {},
     "output_type": "execute_result"
    }
   ],
   "source": [
    "modeldiff = ols('CRI ~ MLT',ldata.diff())\n",
    "modeldiff.fit().summary()"
   ]
  },
  {
   "cell_type": "code",
   "execution_count": 11,
   "metadata": {
    "Collapsed": "false"
   },
   "outputs": [
    {
     "name": "stdout",
     "output_type": "stream",
     "text": [
      "                            OLS Regression Results                            \n",
      "==============================================================================\n",
      "Dep. Variable:                    CRI   R-squared:                       0.032\n",
      "Model:                            OLS   Adj. R-squared:                  0.011\n",
      "Method:                 Least Squares   F-statistic:                     1.537\n",
      "Date:                Sun, 25 Oct 2020   Prob (F-statistic):              0.221\n",
      "Time:                        19:19:56   Log-Likelihood:                 102.51\n",
      "No. Observations:                  48   AIC:                            -201.0\n",
      "Df Residuals:                      46   BIC:                            -197.3\n",
      "Df Model:                           1                                         \n",
      "Covariance Type:            nonrobust                                         \n",
      "==============================================================================\n",
      "                 coef    std err          t      P>|t|      [0.025      0.975]\n",
      "------------------------------------------------------------------------------\n",
      "Intercept      0.0143      0.006      2.269      0.028       0.002       0.027\n",
      "MLT            0.1378      0.111      1.240      0.221      -0.086       0.362\n",
      "==============================================================================\n",
      "Omnibus:                       27.205   Durbin-Watson:                   1.244\n",
      "Prob(Omnibus):                  0.000   Jarque-Bera (JB):               58.241\n",
      "Skew:                          -1.586   Prob(JB):                     2.26e-13\n",
      "Kurtosis:                       7.365   Cond. No.                         26.4\n",
      "==============================================================================\n",
      "\n",
      "Warnings:\n",
      "[1] Standard Errors assume that the covariance matrix of the errors is correctly specified.\n"
     ]
    }
   ],
   "source": [
    "print(modeldiff.fit().summary())"
   ]
  },
  {
   "cell_type": "markdown",
   "metadata": {
    "Collapsed": "false"
   },
   "source": [
    "# Simulación de datos\n",
    "\n",
    "Ahora, vamos a definir una función para simular dos caminatas aleatorias con intercepto, calibradas con la media y la desviación estándar del crecimiento en ambos países."
   ]
  },
  {
   "cell_type": "code",
   "execution_count": 12,
   "metadata": {
    "Collapsed": "false"
   },
   "outputs": [
    {
     "name": "stdout",
     "output_type": "stream",
     "text": [
      "El crecimiento medio es:\n",
      "country\n",
      "CRI   0.02\n",
      "MLT   0.04\n",
      "dtype: float64\n",
      "\n",
      "y las respectivas volatilidades son:\n",
      "country\n",
      "CRI   0.03\n",
      "MLT   0.04\n",
      "dtype: float64\n"
     ]
    }
   ],
   "source": [
    "growth = ldata.diff().mean() \n",
    "print('El crecimiento medio es:')\n",
    "print(growth)\n",
    "\n",
    "sigma = ldata.diff().std()\n",
    "print('\\ny las respectivas volatilidades son:')\n",
    "print(sigma)"
   ]
  },
  {
   "cell_type": "markdown",
   "metadata": {
    "Collapsed": "false"
   },
   "source": [
    "Para las simulaciones, fijamos el tamaño de muestra en `T=48`. Observe que las dos series que se crean son independientes."
   ]
  },
  {
   "cell_type": "code",
   "execution_count": 13,
   "metadata": {
    "Collapsed": "false"
   },
   "outputs": [],
   "source": [
    "T = 48\n",
    "calendario = pd.date_range(start='1970',freq='A',periods=T)\n",
    "\n",
    "def generate_series():\n",
    "    X = np.ones((T,2))\n",
    "    \n",
    "    for t in range(1, T):\n",
    "        X[t] = X[t-1] + growth + sigma * np.random.randn(2)\n",
    "    \n",
    "    return pd.DataFrame(X,index=calendario, columns=['MLT','CRI'])"
   ]
  },
  {
   "cell_type": "markdown",
   "metadata": {
    "Collapsed": "false"
   },
   "source": [
    "Aquí simulamos el proceso una vez para ver que parezca razonable."
   ]
  },
  {
   "cell_type": "code",
   "execution_count": 14,
   "metadata": {
    "Collapsed": "false"
   },
   "outputs": [
    {
     "data": {
      "text/plain": [
       "<matplotlib.axes._subplots.AxesSubplot at 0x23286a5b9d0>"
      ]
     },
     "execution_count": 14,
     "metadata": {},
     "output_type": "execute_result"
    },
    {
     "data": {
      "image/png": "[encoded data removed]",
      "text/plain": [
       "<Figure size 864x432 with 1 Axes>"
      ]
     },
     "metadata": {
      "needs_background": "light"
     },
     "output_type": "display_data"
    }
   ],
   "source": [
    "datos_simulados = generate_series()\n",
    "datos_simulados.plot(figsize=[12,6])"
   ]
  },
  {
   "cell_type": "code",
   "execution_count": 15,
   "metadata": {
    "Collapsed": "false"
   },
   "outputs": [
    {
     "data": {
      "text/html": [
       "<table class=\"simpletable\">\n",
       "<caption>OLS Regression Results</caption>\n",
       "<tr>\n",
       "  <th>Dep. Variable:</th>           <td>CRI</td>       <th>  R-squared:         </th> <td>   0.964</td>\n",
       "</tr>\n",
       "<tr>\n",
       "  <th>Model:</th>                   <td>OLS</td>       <th>  Adj. R-squared:    </th> <td>   0.964</td>\n",
       "</tr>\n",
       "<tr>\n",
       "  <th>Method:</th>             <td>Least Squares</td>  <th>  F-statistic:       </th> <td>   1244.</td>\n",
       "</tr>\n",
       "<tr>\n",
       "  <th>Date:</th>             <td>Sun, 25 Oct 2020</td> <th>  Prob (F-statistic):</th> <td>5.94e-35</td>\n",
       "</tr>\n",
       "<tr>\n",
       "  <th>Time:</th>                 <td>19:19:56</td>     <th>  Log-Likelihood:    </th> <td>  37.765</td>\n",
       "</tr>\n",
       "<tr>\n",
       "  <th>No. Observations:</th>      <td>    48</td>      <th>  AIC:               </th> <td>  -71.53</td>\n",
       "</tr>\n",
       "<tr>\n",
       "  <th>Df Residuals:</th>          <td>    46</td>      <th>  BIC:               </th> <td>  -67.79</td>\n",
       "</tr>\n",
       "<tr>\n",
       "  <th>Df Model:</th>              <td>     1</td>      <th>                     </th>     <td> </td>   \n",
       "</tr>\n",
       "<tr>\n",
       "  <th>Covariance Type:</th>      <td>nonrobust</td>    <th>                     </th>     <td> </td>   \n",
       "</tr>\n",
       "</table>\n",
       "<table class=\"simpletable\">\n",
       "<tr>\n",
       "      <td></td>         <th>coef</th>     <th>std err</th>      <th>t</th>      <th>P>|t|</th>  <th>[0.025</th>    <th>0.975]</th>  \n",
       "</tr>\n",
       "<tr>\n",
       "  <th>Intercept</th> <td>   -0.5119</td> <td>    0.073</td> <td>   -7.052</td> <td> 0.000</td> <td>   -0.658</td> <td>   -0.366</td>\n",
       "</tr>\n",
       "<tr>\n",
       "  <th>MLT</th>       <td>    1.7047</td> <td>    0.048</td> <td>   35.273</td> <td> 0.000</td> <td>    1.607</td> <td>    1.802</td>\n",
       "</tr>\n",
       "</table>\n",
       "<table class=\"simpletable\">\n",
       "<tr>\n",
       "  <th>Omnibus:</th>       <td> 4.583</td> <th>  Durbin-Watson:     </th> <td>   0.206</td>\n",
       "</tr>\n",
       "<tr>\n",
       "  <th>Prob(Omnibus):</th> <td> 0.101</td> <th>  Jarque-Bera (JB):  </th> <td>   2.973</td>\n",
       "</tr>\n",
       "<tr>\n",
       "  <th>Skew:</th>          <td>-0.428</td> <th>  Prob(JB):          </th> <td>   0.226</td>\n",
       "</tr>\n",
       "<tr>\n",
       "  <th>Kurtosis:</th>      <td> 2.132</td> <th>  Cond. No.          </th> <td>    9.58</td>\n",
       "</tr>\n",
       "</table><br/><br/>Warnings:<br/>[1] Standard Errors assume that the covariance matrix of the errors is correctly specified."
      ],
      "text/plain": [
       "<class 'statsmodels.iolib.summary.Summary'>\n",
       "\"\"\"\n",
       "                            OLS Regression Results                            \n",
       "==============================================================================\n",
       "Dep. Variable:                    CRI   R-squared:                       0.964\n",
       "Model:                            OLS   Adj. R-squared:                  0.964\n",
       "Method:                 Least Squares   F-statistic:                     1244.\n",
       "Date:                Sun, 25 Oct 2020   Prob (F-statistic):           5.94e-35\n",
       "Time:                        19:19:56   Log-Likelihood:                 37.765\n",
       "No. Observations:                  48   AIC:                            -71.53\n",
       "Df Residuals:                      46   BIC:                            -67.79\n",
       "Df Model:                           1                                         \n",
       "Covariance Type:            nonrobust                                         \n",
       "==============================================================================\n",
       "                 coef    std err          t      P>|t|      [0.025      0.975]\n",
       "------------------------------------------------------------------------------\n",
       "Intercept     -0.5119      0.073     -7.052      0.000      -0.658      -0.366\n",
       "MLT            1.7047      0.048     35.273      0.000       1.607       1.802\n",
       "==============================================================================\n",
       "Omnibus:                        4.583   Durbin-Watson:                   0.206\n",
       "Prob(Omnibus):                  0.101   Jarque-Bera (JB):                2.973\n",
       "Skew:                          -0.428   Prob(JB):                        0.226\n",
       "Kurtosis:                       2.132   Cond. No.                         9.58\n",
       "==============================================================================\n",
       "\n",
       "Warnings:\n",
       "[1] Standard Errors assume that the covariance matrix of the errors is correctly specified.\n",
       "\"\"\""
      ]
     },
     "execution_count": 15,
     "metadata": {},
     "output_type": "execute_result"
    }
   ],
   "source": [
    "resultados_simulados = ols('CRI ~ MLT',datos_simulados).fit().summary()\n",
    "resultados_simulados"
   ]
  },
  {
   "cell_type": "markdown",
   "metadata": {
    "Collapsed": "false"
   },
   "source": [
    "# Monte Carlo"
   ]
  },
  {
   "cell_type": "markdown",
   "metadata": {
    "Collapsed": "false"
   },
   "source": [
    "Para la simulación de Monte Carlo, veremos el parámetro asociado con MLT, así como su estadístico *t* y el valor *p*. Para facilitar la labor, definimos una función que extrae estos tres estadísticos de los resultados de una regresión y los retorna como una lista. Añadimos ademas el *p-value* de la prueba aumentada de Dickey-Fuller respecto a si los residuos de la regresión presentan raices unitarias."
   ]
  },
  {
   "cell_type": "code",
   "execution_count": 16,
   "metadata": {
    "Collapsed": "false"
   },
   "outputs": [],
   "source": [
    "def give_me_the_summary(res):\n",
    "    statistics = ['params', 'tvalues', 'pvalues']\n",
    "    tval = AEG(res.resid, 2,False)\n",
    "    return [getattr(res, k)['MLT'] for k in statistics] + [tval]"
   ]
  },
  {
   "cell_type": "markdown",
   "metadata": {
    "Collapsed": "false"
   },
   "source": [
    "Para cada iteración del experimento de Monte Carlo, generamos una nueva muestra con `generate_series()`, luego estimamos el modelo con los datos en niveles (resultados en `rl`) y en primeras diferencias (`rd`). Retornamos los seis estadísticos correspondientes.\n",
    "\n",
    "Recuerde que, por construcción, las series en primera diferencia sí son estacionarias."
   ]
  },
  {
   "cell_type": "code",
   "execution_count": 17,
   "metadata": {
    "Collapsed": "false"
   },
   "outputs": [],
   "source": [
    "def simulate_regression():\n",
    "    data = generate_series()\n",
    "    rl = ols('CRI ~ MLT', data).fit()\n",
    "    rd = ols('CRI ~ MLT', data.diff()).fit()\n",
    "    return give_me_the_summary(rl) + give_me_the_summary(rd)"
   ]
  },
  {
   "cell_type": "markdown",
   "metadata": {
    "Collapsed": "false"
   },
   "source": [
    "Fijamos el número de repeticiones en `nrep=1000` y creamos una tabla (`pd.DataFrame`) con los resultados de todas las simulaciones."
   ]
  },
  {
   "cell_type": "code",
   "execution_count": 18,
   "metadata": {
    "Collapsed": "false"
   },
   "outputs": [
    {
     "name": "stdout",
     "output_type": "stream",
     "text": [
      "Wall time: 6min 27s\n"
     ]
    }
   ],
   "source": [
    "%%time\n",
    "\n",
    "nrep = 10000 # number of repetitions\n",
    "montecarlo = pd.DataFrame([simulate_regression() for k in range(nrep)],\n",
    "                          columns=pd.MultiIndex.from_product([['LEVEL','DIFF'], ['coeff','t-stat', 'p-value', 'tvalue-res']]))\n",
    "\n"
   ]
  },
  {
   "cell_type": "markdown",
   "metadata": {
    "Collapsed": "false"
   },
   "source": [
    "Finalmente, analizamos la distribución de cada uno de los estadísticos bajo consideración."
   ]
  },
  {
   "cell_type": "code",
   "execution_count": 19,
   "metadata": {
    "Collapsed": "false"
   },
   "outputs": [
    {
     "data": {
      "text/plain": [
       "Level\n",
       "1%    -4.13\n",
       "5%    -3.47\n",
       "10%   -3.13\n",
       "dtype: float64"
      ]
     },
     "execution_count": 19,
     "metadata": {},
     "output_type": "execute_result"
    },
    {
     "data": {
      "image/png": "[encoded data removed]",
      "text/plain": [
       "<Figure size 864x864 with 8 Axes>"
      ]
     },
     "metadata": {
      "needs_background": "light"
     },
     "output_type": "display_data"
    }
   ],
   "source": [
    "ax = montecarlo.swaplevel(axis=1).hist(layout=(4,2), figsize=[12,12],bins=20)\n",
    "mk('c', 2, T)"
   ]
  },
  {
   "cell_type": "markdown",
   "metadata": {
    "Collapsed": "false"
   },
   "source": [
    "Puede verse para las regresiones en niveles, siempre encontramos una asociación positiva y estadísticamente significativa entre las dos series, a pesar de que son independientes! En contraste, cuando las regresiones se realizan con datos estacionarios (primeras diferencias), rutinariamente rechazaríamos la hipótesis de que el PIB de Malta está correlacionado con el de Costa Rica."
   ]
  }
 ],
 "metadata": {
  "anaconda-cloud": {},
  "kernelspec": {
   "display_name": "Python 3",
   "language": "python",
   "name": "python3"
  },
  "language_info": {
   "codemirror_mode": {
    "name": "ipython",
    "version": 3
   },
   "file_extension": ".py",
   "mimetype": "text/x-python",
   "name": "python",
   "nbconvert_exporter": "python",
   "pygments_lexer": "ipython3",
   "version": "3.8.3"
  }
 },
 "nbformat": 4,
 "nbformat_minor": 4
}
